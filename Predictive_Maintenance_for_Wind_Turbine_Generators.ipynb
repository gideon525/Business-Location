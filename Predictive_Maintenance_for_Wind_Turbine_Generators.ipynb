{
  "nbformat": 4,
  "nbformat_minor": 0,
  "metadata": {
    "colab": {
      "provenance": [],
      "toc_visible": true,
      "authorship_tag": "ABX9TyPdRiEOQN2VwnWL20hlHhcR",
      "include_colab_link": true
    },
    "kernelspec": {
      "name": "python3",
      "display_name": "Python 3"
    },
    "language_info": {
      "name": "python"
    }
  },
  "cells": [
    {
      "cell_type": "markdown",
      "metadata": {
        "id": "view-in-github",
        "colab_type": "text"
      },
      "source": [
        "<a href=\"https://colab.research.google.com/github/gideon525/Business-Location/blob/main/Predictive_Maintenance_for_Wind_Turbine_Generators.ipynb\" target=\"_parent\"><img src=\"https://colab.research.google.com/assets/colab-badge.svg\" alt=\"Open In Colab\"/></a>"
      ]
    },
    {
      "cell_type": "markdown",
      "source": [
        "**Objective:** Develop and compare machine learning models to predict wind turbine generator failures, selecting the one that minimizes total operational and maintenance costs based on a specific business-defined cost structure."
      ],
      "metadata": {
        "id": "xSFfK1ylGvcq"
      }
    },
    {
      "cell_type": "markdown",
      "source": [
        "**Installing and Importing the necessary libraries**\n",
        "# Import the necessary libraries for data handling, visualization, and machine learning"
      ],
      "metadata": {
        "id": "qArA-7-fHyOz"
      }
    },
    {
      "cell_type": "code",
      "source": [
        "# --- Data Manipulation and Analysis ---\n",
        "import pandas as pd\n",
        "import numpy as np\n",
        "\n",
        "# --- Data Visualization ---\n",
        "import matplotlib.pyplot as plt\n",
        "import seaborn as sns\n",
        "\n",
        "# --- Machine Learning: Preprocessing ---\n",
        "from sklearn.model_selection import train_test_split, StratifiedKFold, RandomizedSearchCV\n",
        "from sklearn.preprocessing import StandardScaler\n",
        "\n",
        "# --- Machine Learning: Models ---\n",
        "from sklearn.linear_model import LogisticRegression\n",
        "from sklearn.ensemble import RandomForestClassifier\n",
        "import xgboost as xgb\n",
        "# TensorFlow and Keras for Neural Network models\n",
        "from tensorflow import keras\n",
        "from tensorflow.keras.models import Sequential\n",
        "from tensorflow.keras.layers import Dense, Dropout\n",
        "\n",
        "# --- Machine Learning: Evaluation ---\n",
        "from sklearn.metrics import confusion_matrix, classification_report, make_scorer, f1_score\n",
        "\n",
        "# --- General Settings ---\n",
        "sns.set_style('whitegrid')\n",
        "import warnings\n",
        "warnings.filterwarnings('ignore')"
      ],
      "metadata": {
        "id": "PtyEzRFwG7Nm"
      },
      "execution_count": 72,
      "outputs": []
    },
    {
      "cell_type": "markdown",
      "source": [
        "**Data Loading**\n",
        "# load the Train.csv and Test.csv files into pandas DataFrames.\n"
      ],
      "metadata": {
        "id": "kK36ijByJZRI"
      }
    },
    {
      "cell_type": "code",
      "source": [
        "from google.colab import drive\n",
        "drive.mount('/content/drive')\n"
      ],
      "metadata": {
        "colab": {
          "base_uri": "https://localhost:8080/"
        },
        "id": "VmYpwUliJ3PG",
        "outputId": "4e508804-e3a8-4129-9efc-ba9cfe5e0bf3"
      },
      "execution_count": 73,
      "outputs": [
        {
          "output_type": "stream",
          "name": "stdout",
          "text": [
            "Drive already mounted at /content/drive; to attempt to forcibly remount, call drive.mount(\"/content/drive\", force_remount=True).\n"
          ]
        }
      ]
    },
    {
      "cell_type": "code",
      "source": [
        "train_df = pd.read_csv('/content/drive/MyDrive/UTAustin/Train.csv')\n",
        "test_df = pd.read_csv('/content/drive/MyDrive/UTAustin/Test.csv')"
      ],
      "metadata": {
        "id": "2UUNbgleKfrG"
      },
      "execution_count": 74,
      "outputs": []
    },
    {
      "cell_type": "markdown",
      "source": [
        "**Data Overview**\n"
      ],
      "metadata": {
        "id": "YaXhzmZrL6XD"
      }
    },
    {
      "cell_type": "code",
      "source": [
        "print(\"--- Training Data Overview ---\")\n",
        "print(f\"Shape: {train_df.shape}\")\n"
      ],
      "metadata": {
        "colab": {
          "base_uri": "https://localhost:8080/"
        },
        "id": "yIe-VdYjMIcW",
        "outputId": "4dadf131-65d1-4007-fe49-5961f862668e"
      },
      "execution_count": 75,
      "outputs": [
        {
          "output_type": "stream",
          "name": "stdout",
          "text": [
            "--- Training Data Overview ---\n",
            "Shape: (20000, 41)\n"
          ]
        }
      ]
    },
    {
      "cell_type": "markdown",
      "source": [
        "There are 20 rows o and 41 columns in the train data"
      ],
      "metadata": {
        "id": "i2yf_ZB5Mvpt"
      }
    },
    {
      "cell_type": "code",
      "source": [
        "print(\"\\nInfo:\")\n",
        "train_df.info()\n"
      ],
      "metadata": {
        "colab": {
          "base_uri": "https://localhost:8080/"
        },
        "id": "T-MKYiQ1MooW",
        "outputId": "f32f588f-7f3d-4383-e715-70ad9da6f74b"
      },
      "execution_count": 76,
      "outputs": [
        {
          "output_type": "stream",
          "name": "stdout",
          "text": [
            "\n",
            "Info:\n",
            "<class 'pandas.core.frame.DataFrame'>\n",
            "RangeIndex: 20000 entries, 0 to 19999\n",
            "Data columns (total 41 columns):\n",
            " #   Column  Non-Null Count  Dtype  \n",
            "---  ------  --------------  -----  \n",
            " 0   V1      19982 non-null  float64\n",
            " 1   V2      19982 non-null  float64\n",
            " 2   V3      20000 non-null  float64\n",
            " 3   V4      20000 non-null  float64\n",
            " 4   V5      20000 non-null  float64\n",
            " 5   V6      20000 non-null  float64\n",
            " 6   V7      20000 non-null  float64\n",
            " 7   V8      20000 non-null  float64\n",
            " 8   V9      20000 non-null  float64\n",
            " 9   V10     20000 non-null  float64\n",
            " 10  V11     20000 non-null  float64\n",
            " 11  V12     20000 non-null  float64\n",
            " 12  V13     20000 non-null  float64\n",
            " 13  V14     20000 non-null  float64\n",
            " 14  V15     20000 non-null  float64\n",
            " 15  V16     20000 non-null  float64\n",
            " 16  V17     20000 non-null  float64\n",
            " 17  V18     20000 non-null  float64\n",
            " 18  V19     20000 non-null  float64\n",
            " 19  V20     20000 non-null  float64\n",
            " 20  V21     20000 non-null  float64\n",
            " 21  V22     20000 non-null  float64\n",
            " 22  V23     20000 non-null  float64\n",
            " 23  V24     20000 non-null  float64\n",
            " 24  V25     20000 non-null  float64\n",
            " 25  V26     20000 non-null  float64\n",
            " 26  V27     20000 non-null  float64\n",
            " 27  V28     20000 non-null  float64\n",
            " 28  V29     20000 non-null  float64\n",
            " 29  V30     20000 non-null  float64\n",
            " 30  V31     20000 non-null  float64\n",
            " 31  V32     20000 non-null  float64\n",
            " 32  V33     20000 non-null  float64\n",
            " 33  V34     20000 non-null  float64\n",
            " 34  V35     20000 non-null  float64\n",
            " 35  V36     20000 non-null  float64\n",
            " 36  V37     20000 non-null  float64\n",
            " 37  V38     20000 non-null  float64\n",
            " 38  V39     20000 non-null  float64\n",
            " 39  V40     20000 non-null  float64\n",
            " 40  Target  20000 non-null  int64  \n",
            "dtypes: float64(40), int64(1)\n",
            "memory usage: 6.3 MB\n"
          ]
        }
      ]
    },
    {
      "cell_type": "markdown",
      "source": [
        "The columns are are numerical data types"
      ],
      "metadata": {
        "id": "uB2UGKh2NQNB"
      }
    },
    {
      "cell_type": "code",
      "source": [
        "\n",
        "print(\"\\n--- Descriptive Statistics of Training Data ---\")\n",
        "display(train_df.describe().T)"
      ],
      "metadata": {
        "colab": {
          "base_uri": "https://localhost:8080/",
          "height": 1000
        },
        "id": "DzOxycp8NbTc",
        "outputId": "9775fc5f-d3fb-4cfa-f61f-65292fed3f30"
      },
      "execution_count": 77,
      "outputs": [
        {
          "output_type": "stream",
          "name": "stdout",
          "text": [
            "\n",
            "--- Descriptive Statistics of Training Data ---\n"
          ]
        },
        {
          "output_type": "display_data",
          "data": {
            "text/plain": [
              "          count      mean       std        min       25%       50%       75%  \\\n",
              "V1      19982.0 -0.271996  3.441625 -11.876451 -2.737146 -0.747917  1.840112   \n",
              "V2      19982.0  0.440430  3.150784 -12.319951 -1.640674  0.471536  2.543967   \n",
              "V3      20000.0  2.484699  3.388963 -10.708139  0.206860  2.255786  4.566165   \n",
              "V4      20000.0 -0.083152  3.431595 -15.082052 -2.347660 -0.135241  2.130615   \n",
              "V5      20000.0 -0.053752  2.104801  -8.603361 -1.535607 -0.101952  1.340480   \n",
              "V6      20000.0 -0.995443  2.040970 -10.227147 -2.347238 -1.000515  0.380330   \n",
              "V7      20000.0 -0.879325  1.761626  -7.949681 -2.030926 -0.917179  0.223695   \n",
              "V8      20000.0 -0.548195  3.295756 -15.657561 -2.642665 -0.389085  1.722965   \n",
              "V9      20000.0 -0.016808  2.160568  -8.596313 -1.494973 -0.067597  1.409203   \n",
              "V10     20000.0 -0.012998  2.193201  -9.853957 -1.411212  0.100973  1.477045   \n",
              "V11     20000.0 -1.895393  3.124322 -14.832058 -3.922404 -1.921237  0.118906   \n",
              "V12     20000.0  1.604825  2.930454 -12.948007 -0.396514  1.507841  3.571454   \n",
              "V13     20000.0  1.580486  2.874658 -13.228247 -0.223545  1.637185  3.459886   \n",
              "V14     20000.0 -0.950632  1.789651  -7.738593 -2.170741 -0.957163  0.270677   \n",
              "V15     20000.0 -2.414993  3.354974 -16.416606 -4.415322 -2.382617 -0.359052   \n",
              "V16     20000.0 -2.925225  4.221717 -20.374158 -5.634240 -2.682705 -0.095046   \n",
              "V17     20000.0 -0.134261  3.345462 -14.091184 -2.215611 -0.014580  2.068751   \n",
              "V18     20000.0  1.189347  2.592276 -11.643994 -0.403917  0.883398  2.571770   \n",
              "V19     20000.0  1.181808  3.396925 -13.491784 -1.050168  1.279061  3.493299   \n",
              "V20     20000.0  0.023608  3.669477 -13.922659 -2.432953  0.033415  2.512372   \n",
              "V21     20000.0 -3.611252  3.567690 -17.956231 -5.930360 -3.532888 -1.265884   \n",
              "V22     20000.0  0.951835  1.651547 -10.122095 -0.118127  0.974687  2.025594   \n",
              "V23     20000.0 -0.366116  4.031860 -14.866128 -3.098756 -0.262093  2.451750   \n",
              "V24     20000.0  1.134389  3.912069 -16.387147 -1.468062  0.969048  3.545975   \n",
              "V25     20000.0 -0.002186  2.016740  -8.228266 -1.365178  0.025050  1.397112   \n",
              "V26     20000.0  1.873785  3.435137 -11.834271 -0.337863  1.950531  4.130037   \n",
              "V27     20000.0 -0.612413  4.368847 -14.904939 -3.652323 -0.884894  2.189177   \n",
              "V28     20000.0 -0.883218  1.917713  -9.269489 -2.171218 -0.891073  0.375884   \n",
              "V29     20000.0 -0.985625  2.684365 -12.579469 -2.787443 -1.176181  0.629773   \n",
              "V30     20000.0 -0.015534  3.005258 -14.796047 -1.867114  0.184346  2.036229   \n",
              "V31     20000.0  0.486842  3.461384 -13.722760 -1.817772  0.490304  2.730688   \n",
              "V32     20000.0  0.303799  5.500400 -19.876502 -3.420469  0.052073  3.761722   \n",
              "V33     20000.0  0.049825  3.575285 -16.898353 -2.242857 -0.066249  2.255134   \n",
              "V34     20000.0 -0.462702  3.183841 -17.985094 -2.136984 -0.255008  1.436935   \n",
              "V35     20000.0  2.229620  2.937102 -15.349803  0.336191  2.098633  4.064358   \n",
              "V36     20000.0  1.514809  3.800860 -14.833178 -0.943809  1.566526  3.983939   \n",
              "V37     20000.0  0.011316  1.788165  -5.478350 -1.255819 -0.128435  1.175533   \n",
              "V38     20000.0 -0.344025  3.948147 -17.375002 -2.987638 -0.316849  2.279399   \n",
              "V39     20000.0  0.890653  1.753054  -6.438880 -0.272250  0.919261  2.057540   \n",
              "V40     20000.0 -0.875630  3.012155 -11.023935 -2.940193 -0.920806  1.119897   \n",
              "Target  20000.0  0.055500  0.228959   0.000000  0.000000  0.000000  0.000000   \n",
              "\n",
              "              max  \n",
              "V1      15.493002  \n",
              "V2      13.089269  \n",
              "V3      17.090919  \n",
              "V4      13.236381  \n",
              "V5       8.133797  \n",
              "V6       6.975847  \n",
              "V7       8.006091  \n",
              "V8      11.679495  \n",
              "V9       8.137580  \n",
              "V10      8.108472  \n",
              "V11     11.826433  \n",
              "V12     15.080698  \n",
              "V13     15.419616  \n",
              "V14      5.670664  \n",
              "V15     12.246455  \n",
              "V16     13.583212  \n",
              "V17     16.756432  \n",
              "V18     13.179863  \n",
              "V19     13.237742  \n",
              "V20     16.052339  \n",
              "V21     13.840473  \n",
              "V22      7.409856  \n",
              "V23     14.458734  \n",
              "V24     17.163291  \n",
              "V25      8.223389  \n",
              "V26     16.836410  \n",
              "V27     17.560404  \n",
              "V28      6.527643  \n",
              "V29     10.722055  \n",
              "V30     12.505812  \n",
              "V31     17.255090  \n",
              "V32     23.633187  \n",
              "V33     16.692486  \n",
              "V34     14.358213  \n",
              "V35     15.291065  \n",
              "V36     19.329576  \n",
              "V37      7.467006  \n",
              "V38     15.289923  \n",
              "V39      7.759877  \n",
              "V40     10.654265  \n",
              "Target   1.000000  "
            ],
            "text/html": [
              "\n",
              "  <div id=\"df-a7cb1fe7-3f7b-4c51-9a4a-9e5e7c4dbb5b\" class=\"colab-df-container\">\n",
              "    <div>\n",
              "<style scoped>\n",
              "    .dataframe tbody tr th:only-of-type {\n",
              "        vertical-align: middle;\n",
              "    }\n",
              "\n",
              "    .dataframe tbody tr th {\n",
              "        vertical-align: top;\n",
              "    }\n",
              "\n",
              "    .dataframe thead th {\n",
              "        text-align: right;\n",
              "    }\n",
              "</style>\n",
              "<table border=\"1\" class=\"dataframe\">\n",
              "  <thead>\n",
              "    <tr style=\"text-align: right;\">\n",
              "      <th></th>\n",
              "      <th>count</th>\n",
              "      <th>mean</th>\n",
              "      <th>std</th>\n",
              "      <th>min</th>\n",
              "      <th>25%</th>\n",
              "      <th>50%</th>\n",
              "      <th>75%</th>\n",
              "      <th>max</th>\n",
              "    </tr>\n",
              "  </thead>\n",
              "  <tbody>\n",
              "    <tr>\n",
              "      <th>V1</th>\n",
              "      <td>19982.0</td>\n",
              "      <td>-0.271996</td>\n",
              "      <td>3.441625</td>\n",
              "      <td>-11.876451</td>\n",
              "      <td>-2.737146</td>\n",
              "      <td>-0.747917</td>\n",
              "      <td>1.840112</td>\n",
              "      <td>15.493002</td>\n",
              "    </tr>\n",
              "    <tr>\n",
              "      <th>V2</th>\n",
              "      <td>19982.0</td>\n",
              "      <td>0.440430</td>\n",
              "      <td>3.150784</td>\n",
              "      <td>-12.319951</td>\n",
              "      <td>-1.640674</td>\n",
              "      <td>0.471536</td>\n",
              "      <td>2.543967</td>\n",
              "      <td>13.089269</td>\n",
              "    </tr>\n",
              "    <tr>\n",
              "      <th>V3</th>\n",
              "      <td>20000.0</td>\n",
              "      <td>2.484699</td>\n",
              "      <td>3.388963</td>\n",
              "      <td>-10.708139</td>\n",
              "      <td>0.206860</td>\n",
              "      <td>2.255786</td>\n",
              "      <td>4.566165</td>\n",
              "      <td>17.090919</td>\n",
              "    </tr>\n",
              "    <tr>\n",
              "      <th>V4</th>\n",
              "      <td>20000.0</td>\n",
              "      <td>-0.083152</td>\n",
              "      <td>3.431595</td>\n",
              "      <td>-15.082052</td>\n",
              "      <td>-2.347660</td>\n",
              "      <td>-0.135241</td>\n",
              "      <td>2.130615</td>\n",
              "      <td>13.236381</td>\n",
              "    </tr>\n",
              "    <tr>\n",
              "      <th>V5</th>\n",
              "      <td>20000.0</td>\n",
              "      <td>-0.053752</td>\n",
              "      <td>2.104801</td>\n",
              "      <td>-8.603361</td>\n",
              "      <td>-1.535607</td>\n",
              "      <td>-0.101952</td>\n",
              "      <td>1.340480</td>\n",
              "      <td>8.133797</td>\n",
              "    </tr>\n",
              "    <tr>\n",
              "      <th>V6</th>\n",
              "      <td>20000.0</td>\n",
              "      <td>-0.995443</td>\n",
              "      <td>2.040970</td>\n",
              "      <td>-10.227147</td>\n",
              "      <td>-2.347238</td>\n",
              "      <td>-1.000515</td>\n",
              "      <td>0.380330</td>\n",
              "      <td>6.975847</td>\n",
              "    </tr>\n",
              "    <tr>\n",
              "      <th>V7</th>\n",
              "      <td>20000.0</td>\n",
              "      <td>-0.879325</td>\n",
              "      <td>1.761626</td>\n",
              "      <td>-7.949681</td>\n",
              "      <td>-2.030926</td>\n",
              "      <td>-0.917179</td>\n",
              "      <td>0.223695</td>\n",
              "      <td>8.006091</td>\n",
              "    </tr>\n",
              "    <tr>\n",
              "      <th>V8</th>\n",
              "      <td>20000.0</td>\n",
              "      <td>-0.548195</td>\n",
              "      <td>3.295756</td>\n",
              "      <td>-15.657561</td>\n",
              "      <td>-2.642665</td>\n",
              "      <td>-0.389085</td>\n",
              "      <td>1.722965</td>\n",
              "      <td>11.679495</td>\n",
              "    </tr>\n",
              "    <tr>\n",
              "      <th>V9</th>\n",
              "      <td>20000.0</td>\n",
              "      <td>-0.016808</td>\n",
              "      <td>2.160568</td>\n",
              "      <td>-8.596313</td>\n",
              "      <td>-1.494973</td>\n",
              "      <td>-0.067597</td>\n",
              "      <td>1.409203</td>\n",
              "      <td>8.137580</td>\n",
              "    </tr>\n",
              "    <tr>\n",
              "      <th>V10</th>\n",
              "      <td>20000.0</td>\n",
              "      <td>-0.012998</td>\n",
              "      <td>2.193201</td>\n",
              "      <td>-9.853957</td>\n",
              "      <td>-1.411212</td>\n",
              "      <td>0.100973</td>\n",
              "      <td>1.477045</td>\n",
              "      <td>8.108472</td>\n",
              "    </tr>\n",
              "    <tr>\n",
              "      <th>V11</th>\n",
              "      <td>20000.0</td>\n",
              "      <td>-1.895393</td>\n",
              "      <td>3.124322</td>\n",
              "      <td>-14.832058</td>\n",
              "      <td>-3.922404</td>\n",
              "      <td>-1.921237</td>\n",
              "      <td>0.118906</td>\n",
              "      <td>11.826433</td>\n",
              "    </tr>\n",
              "    <tr>\n",
              "      <th>V12</th>\n",
              "      <td>20000.0</td>\n",
              "      <td>1.604825</td>\n",
              "      <td>2.930454</td>\n",
              "      <td>-12.948007</td>\n",
              "      <td>-0.396514</td>\n",
              "      <td>1.507841</td>\n",
              "      <td>3.571454</td>\n",
              "      <td>15.080698</td>\n",
              "    </tr>\n",
              "    <tr>\n",
              "      <th>V13</th>\n",
              "      <td>20000.0</td>\n",
              "      <td>1.580486</td>\n",
              "      <td>2.874658</td>\n",
              "      <td>-13.228247</td>\n",
              "      <td>-0.223545</td>\n",
              "      <td>1.637185</td>\n",
              "      <td>3.459886</td>\n",
              "      <td>15.419616</td>\n",
              "    </tr>\n",
              "    <tr>\n",
              "      <th>V14</th>\n",
              "      <td>20000.0</td>\n",
              "      <td>-0.950632</td>\n",
              "      <td>1.789651</td>\n",
              "      <td>-7.738593</td>\n",
              "      <td>-2.170741</td>\n",
              "      <td>-0.957163</td>\n",
              "      <td>0.270677</td>\n",
              "      <td>5.670664</td>\n",
              "    </tr>\n",
              "    <tr>\n",
              "      <th>V15</th>\n",
              "      <td>20000.0</td>\n",
              "      <td>-2.414993</td>\n",
              "      <td>3.354974</td>\n",
              "      <td>-16.416606</td>\n",
              "      <td>-4.415322</td>\n",
              "      <td>-2.382617</td>\n",
              "      <td>-0.359052</td>\n",
              "      <td>12.246455</td>\n",
              "    </tr>\n",
              "    <tr>\n",
              "      <th>V16</th>\n",
              "      <td>20000.0</td>\n",
              "      <td>-2.925225</td>\n",
              "      <td>4.221717</td>\n",
              "      <td>-20.374158</td>\n",
              "      <td>-5.634240</td>\n",
              "      <td>-2.682705</td>\n",
              "      <td>-0.095046</td>\n",
              "      <td>13.583212</td>\n",
              "    </tr>\n",
              "    <tr>\n",
              "      <th>V17</th>\n",
              "      <td>20000.0</td>\n",
              "      <td>-0.134261</td>\n",
              "      <td>3.345462</td>\n",
              "      <td>-14.091184</td>\n",
              "      <td>-2.215611</td>\n",
              "      <td>-0.014580</td>\n",
              "      <td>2.068751</td>\n",
              "      <td>16.756432</td>\n",
              "    </tr>\n",
              "    <tr>\n",
              "      <th>V18</th>\n",
              "      <td>20000.0</td>\n",
              "      <td>1.189347</td>\n",
              "      <td>2.592276</td>\n",
              "      <td>-11.643994</td>\n",
              "      <td>-0.403917</td>\n",
              "      <td>0.883398</td>\n",
              "      <td>2.571770</td>\n",
              "      <td>13.179863</td>\n",
              "    </tr>\n",
              "    <tr>\n",
              "      <th>V19</th>\n",
              "      <td>20000.0</td>\n",
              "      <td>1.181808</td>\n",
              "      <td>3.396925</td>\n",
              "      <td>-13.491784</td>\n",
              "      <td>-1.050168</td>\n",
              "      <td>1.279061</td>\n",
              "      <td>3.493299</td>\n",
              "      <td>13.237742</td>\n",
              "    </tr>\n",
              "    <tr>\n",
              "      <th>V20</th>\n",
              "      <td>20000.0</td>\n",
              "      <td>0.023608</td>\n",
              "      <td>3.669477</td>\n",
              "      <td>-13.922659</td>\n",
              "      <td>-2.432953</td>\n",
              "      <td>0.033415</td>\n",
              "      <td>2.512372</td>\n",
              "      <td>16.052339</td>\n",
              "    </tr>\n",
              "    <tr>\n",
              "      <th>V21</th>\n",
              "      <td>20000.0</td>\n",
              "      <td>-3.611252</td>\n",
              "      <td>3.567690</td>\n",
              "      <td>-17.956231</td>\n",
              "      <td>-5.930360</td>\n",
              "      <td>-3.532888</td>\n",
              "      <td>-1.265884</td>\n",
              "      <td>13.840473</td>\n",
              "    </tr>\n",
              "    <tr>\n",
              "      <th>V22</th>\n",
              "      <td>20000.0</td>\n",
              "      <td>0.951835</td>\n",
              "      <td>1.651547</td>\n",
              "      <td>-10.122095</td>\n",
              "      <td>-0.118127</td>\n",
              "      <td>0.974687</td>\n",
              "      <td>2.025594</td>\n",
              "      <td>7.409856</td>\n",
              "    </tr>\n",
              "    <tr>\n",
              "      <th>V23</th>\n",
              "      <td>20000.0</td>\n",
              "      <td>-0.366116</td>\n",
              "      <td>4.031860</td>\n",
              "      <td>-14.866128</td>\n",
              "      <td>-3.098756</td>\n",
              "      <td>-0.262093</td>\n",
              "      <td>2.451750</td>\n",
              "      <td>14.458734</td>\n",
              "    </tr>\n",
              "    <tr>\n",
              "      <th>V24</th>\n",
              "      <td>20000.0</td>\n",
              "      <td>1.134389</td>\n",
              "      <td>3.912069</td>\n",
              "      <td>-16.387147</td>\n",
              "      <td>-1.468062</td>\n",
              "      <td>0.969048</td>\n",
              "      <td>3.545975</td>\n",
              "      <td>17.163291</td>\n",
              "    </tr>\n",
              "    <tr>\n",
              "      <th>V25</th>\n",
              "      <td>20000.0</td>\n",
              "      <td>-0.002186</td>\n",
              "      <td>2.016740</td>\n",
              "      <td>-8.228266</td>\n",
              "      <td>-1.365178</td>\n",
              "      <td>0.025050</td>\n",
              "      <td>1.397112</td>\n",
              "      <td>8.223389</td>\n",
              "    </tr>\n",
              "    <tr>\n",
              "      <th>V26</th>\n",
              "      <td>20000.0</td>\n",
              "      <td>1.873785</td>\n",
              "      <td>3.435137</td>\n",
              "      <td>-11.834271</td>\n",
              "      <td>-0.337863</td>\n",
              "      <td>1.950531</td>\n",
              "      <td>4.130037</td>\n",
              "      <td>16.836410</td>\n",
              "    </tr>\n",
              "    <tr>\n",
              "      <th>V27</th>\n",
              "      <td>20000.0</td>\n",
              "      <td>-0.612413</td>\n",
              "      <td>4.368847</td>\n",
              "      <td>-14.904939</td>\n",
              "      <td>-3.652323</td>\n",
              "      <td>-0.884894</td>\n",
              "      <td>2.189177</td>\n",
              "      <td>17.560404</td>\n",
              "    </tr>\n",
              "    <tr>\n",
              "      <th>V28</th>\n",
              "      <td>20000.0</td>\n",
              "      <td>-0.883218</td>\n",
              "      <td>1.917713</td>\n",
              "      <td>-9.269489</td>\n",
              "      <td>-2.171218</td>\n",
              "      <td>-0.891073</td>\n",
              "      <td>0.375884</td>\n",
              "      <td>6.527643</td>\n",
              "    </tr>\n",
              "    <tr>\n",
              "      <th>V29</th>\n",
              "      <td>20000.0</td>\n",
              "      <td>-0.985625</td>\n",
              "      <td>2.684365</td>\n",
              "      <td>-12.579469</td>\n",
              "      <td>-2.787443</td>\n",
              "      <td>-1.176181</td>\n",
              "      <td>0.629773</td>\n",
              "      <td>10.722055</td>\n",
              "    </tr>\n",
              "    <tr>\n",
              "      <th>V30</th>\n",
              "      <td>20000.0</td>\n",
              "      <td>-0.015534</td>\n",
              "      <td>3.005258</td>\n",
              "      <td>-14.796047</td>\n",
              "      <td>-1.867114</td>\n",
              "      <td>0.184346</td>\n",
              "      <td>2.036229</td>\n",
              "      <td>12.505812</td>\n",
              "    </tr>\n",
              "    <tr>\n",
              "      <th>V31</th>\n",
              "      <td>20000.0</td>\n",
              "      <td>0.486842</td>\n",
              "      <td>3.461384</td>\n",
              "      <td>-13.722760</td>\n",
              "      <td>-1.817772</td>\n",
              "      <td>0.490304</td>\n",
              "      <td>2.730688</td>\n",
              "      <td>17.255090</td>\n",
              "    </tr>\n",
              "    <tr>\n",
              "      <th>V32</th>\n",
              "      <td>20000.0</td>\n",
              "      <td>0.303799</td>\n",
              "      <td>5.500400</td>\n",
              "      <td>-19.876502</td>\n",
              "      <td>-3.420469</td>\n",
              "      <td>0.052073</td>\n",
              "      <td>3.761722</td>\n",
              "      <td>23.633187</td>\n",
              "    </tr>\n",
              "    <tr>\n",
              "      <th>V33</th>\n",
              "      <td>20000.0</td>\n",
              "      <td>0.049825</td>\n",
              "      <td>3.575285</td>\n",
              "      <td>-16.898353</td>\n",
              "      <td>-2.242857</td>\n",
              "      <td>-0.066249</td>\n",
              "      <td>2.255134</td>\n",
              "      <td>16.692486</td>\n",
              "    </tr>\n",
              "    <tr>\n",
              "      <th>V34</th>\n",
              "      <td>20000.0</td>\n",
              "      <td>-0.462702</td>\n",
              "      <td>3.183841</td>\n",
              "      <td>-17.985094</td>\n",
              "      <td>-2.136984</td>\n",
              "      <td>-0.255008</td>\n",
              "      <td>1.436935</td>\n",
              "      <td>14.358213</td>\n",
              "    </tr>\n",
              "    <tr>\n",
              "      <th>V35</th>\n",
              "      <td>20000.0</td>\n",
              "      <td>2.229620</td>\n",
              "      <td>2.937102</td>\n",
              "      <td>-15.349803</td>\n",
              "      <td>0.336191</td>\n",
              "      <td>2.098633</td>\n",
              "      <td>4.064358</td>\n",
              "      <td>15.291065</td>\n",
              "    </tr>\n",
              "    <tr>\n",
              "      <th>V36</th>\n",
              "      <td>20000.0</td>\n",
              "      <td>1.514809</td>\n",
              "      <td>3.800860</td>\n",
              "      <td>-14.833178</td>\n",
              "      <td>-0.943809</td>\n",
              "      <td>1.566526</td>\n",
              "      <td>3.983939</td>\n",
              "      <td>19.329576</td>\n",
              "    </tr>\n",
              "    <tr>\n",
              "      <th>V37</th>\n",
              "      <td>20000.0</td>\n",
              "      <td>0.011316</td>\n",
              "      <td>1.788165</td>\n",
              "      <td>-5.478350</td>\n",
              "      <td>-1.255819</td>\n",
              "      <td>-0.128435</td>\n",
              "      <td>1.175533</td>\n",
              "      <td>7.467006</td>\n",
              "    </tr>\n",
              "    <tr>\n",
              "      <th>V38</th>\n",
              "      <td>20000.0</td>\n",
              "      <td>-0.344025</td>\n",
              "      <td>3.948147</td>\n",
              "      <td>-17.375002</td>\n",
              "      <td>-2.987638</td>\n",
              "      <td>-0.316849</td>\n",
              "      <td>2.279399</td>\n",
              "      <td>15.289923</td>\n",
              "    </tr>\n",
              "    <tr>\n",
              "      <th>V39</th>\n",
              "      <td>20000.0</td>\n",
              "      <td>0.890653</td>\n",
              "      <td>1.753054</td>\n",
              "      <td>-6.438880</td>\n",
              "      <td>-0.272250</td>\n",
              "      <td>0.919261</td>\n",
              "      <td>2.057540</td>\n",
              "      <td>7.759877</td>\n",
              "    </tr>\n",
              "    <tr>\n",
              "      <th>V40</th>\n",
              "      <td>20000.0</td>\n",
              "      <td>-0.875630</td>\n",
              "      <td>3.012155</td>\n",
              "      <td>-11.023935</td>\n",
              "      <td>-2.940193</td>\n",
              "      <td>-0.920806</td>\n",
              "      <td>1.119897</td>\n",
              "      <td>10.654265</td>\n",
              "    </tr>\n",
              "    <tr>\n",
              "      <th>Target</th>\n",
              "      <td>20000.0</td>\n",
              "      <td>0.055500</td>\n",
              "      <td>0.228959</td>\n",
              "      <td>0.000000</td>\n",
              "      <td>0.000000</td>\n",
              "      <td>0.000000</td>\n",
              "      <td>0.000000</td>\n",
              "      <td>1.000000</td>\n",
              "    </tr>\n",
              "  </tbody>\n",
              "</table>\n",
              "</div>\n",
              "    <div class=\"colab-df-buttons\">\n",
              "\n",
              "  <div class=\"colab-df-container\">\n",
              "    <button class=\"colab-df-convert\" onclick=\"convertToInteractive('df-a7cb1fe7-3f7b-4c51-9a4a-9e5e7c4dbb5b')\"\n",
              "            title=\"Convert this dataframe to an interactive table.\"\n",
              "            style=\"display:none;\">\n",
              "\n",
              "  <svg xmlns=\"http://www.w3.org/2000/svg\" height=\"24px\" viewBox=\"0 -960 960 960\">\n",
              "    <path d=\"M120-120v-720h720v720H120Zm60-500h600v-160H180v160Zm220 220h160v-160H400v160Zm0 220h160v-160H400v160ZM180-400h160v-160H180v160Zm440 0h160v-160H620v160ZM180-180h160v-160H180v160Zm440 0h160v-160H620v160Z\"/>\n",
              "  </svg>\n",
              "    </button>\n",
              "\n",
              "  <style>\n",
              "    .colab-df-container {\n",
              "      display:flex;\n",
              "      gap: 12px;\n",
              "    }\n",
              "\n",
              "    .colab-df-convert {\n",
              "      background-color: #E8F0FE;\n",
              "      border: none;\n",
              "      border-radius: 50%;\n",
              "      cursor: pointer;\n",
              "      display: none;\n",
              "      fill: #1967D2;\n",
              "      height: 32px;\n",
              "      padding: 0 0 0 0;\n",
              "      width: 32px;\n",
              "    }\n",
              "\n",
              "    .colab-df-convert:hover {\n",
              "      background-color: #E2EBFA;\n",
              "      box-shadow: 0px 1px 2px rgba(60, 64, 67, 0.3), 0px 1px 3px 1px rgba(60, 64, 67, 0.15);\n",
              "      fill: #174EA6;\n",
              "    }\n",
              "\n",
              "    .colab-df-buttons div {\n",
              "      margin-bottom: 4px;\n",
              "    }\n",
              "\n",
              "    [theme=dark] .colab-df-convert {\n",
              "      background-color: #3B4455;\n",
              "      fill: #D2E3FC;\n",
              "    }\n",
              "\n",
              "    [theme=dark] .colab-df-convert:hover {\n",
              "      background-color: #434B5C;\n",
              "      box-shadow: 0px 1px 3px 1px rgba(0, 0, 0, 0.15);\n",
              "      filter: drop-shadow(0px 1px 2px rgba(0, 0, 0, 0.3));\n",
              "      fill: #FFFFFF;\n",
              "    }\n",
              "  </style>\n",
              "\n",
              "    <script>\n",
              "      const buttonEl =\n",
              "        document.querySelector('#df-a7cb1fe7-3f7b-4c51-9a4a-9e5e7c4dbb5b button.colab-df-convert');\n",
              "      buttonEl.style.display =\n",
              "        google.colab.kernel.accessAllowed ? 'block' : 'none';\n",
              "\n",
              "      async function convertToInteractive(key) {\n",
              "        const element = document.querySelector('#df-a7cb1fe7-3f7b-4c51-9a4a-9e5e7c4dbb5b');\n",
              "        const dataTable =\n",
              "          await google.colab.kernel.invokeFunction('convertToInteractive',\n",
              "                                                    [key], {});\n",
              "        if (!dataTable) return;\n",
              "\n",
              "        const docLinkHtml = 'Like what you see? Visit the ' +\n",
              "          '<a target=\"_blank\" href=https://colab.research.google.com/notebooks/data_table.ipynb>data table notebook</a>'\n",
              "          + ' to learn more about interactive tables.';\n",
              "        element.innerHTML = '';\n",
              "        dataTable['output_type'] = 'display_data';\n",
              "        await google.colab.output.renderOutput(dataTable, element);\n",
              "        const docLink = document.createElement('div');\n",
              "        docLink.innerHTML = docLinkHtml;\n",
              "        element.appendChild(docLink);\n",
              "      }\n",
              "    </script>\n",
              "  </div>\n",
              "\n",
              "\n",
              "    <div id=\"df-22feb6ca-0460-4148-8ca1-2c3ab8d2edda\">\n",
              "      <button class=\"colab-df-quickchart\" onclick=\"quickchart('df-22feb6ca-0460-4148-8ca1-2c3ab8d2edda')\"\n",
              "                title=\"Suggest charts\"\n",
              "                style=\"display:none;\">\n",
              "\n",
              "<svg xmlns=\"http://www.w3.org/2000/svg\" height=\"24px\"viewBox=\"0 0 24 24\"\n",
              "     width=\"24px\">\n",
              "    <g>\n",
              "        <path d=\"M19 3H5c-1.1 0-2 .9-2 2v14c0 1.1.9 2 2 2h14c1.1 0 2-.9 2-2V5c0-1.1-.9-2-2-2zM9 17H7v-7h2v7zm4 0h-2V7h2v10zm4 0h-2v-4h2v4z\"/>\n",
              "    </g>\n",
              "</svg>\n",
              "      </button>\n",
              "\n",
              "<style>\n",
              "  .colab-df-quickchart {\n",
              "      --bg-color: #E8F0FE;\n",
              "      --fill-color: #1967D2;\n",
              "      --hover-bg-color: #E2EBFA;\n",
              "      --hover-fill-color: #174EA6;\n",
              "      --disabled-fill-color: #AAA;\n",
              "      --disabled-bg-color: #DDD;\n",
              "  }\n",
              "\n",
              "  [theme=dark] .colab-df-quickchart {\n",
              "      --bg-color: #3B4455;\n",
              "      --fill-color: #D2E3FC;\n",
              "      --hover-bg-color: #434B5C;\n",
              "      --hover-fill-color: #FFFFFF;\n",
              "      --disabled-bg-color: #3B4455;\n",
              "      --disabled-fill-color: #666;\n",
              "  }\n",
              "\n",
              "  .colab-df-quickchart {\n",
              "    background-color: var(--bg-color);\n",
              "    border: none;\n",
              "    border-radius: 50%;\n",
              "    cursor: pointer;\n",
              "    display: none;\n",
              "    fill: var(--fill-color);\n",
              "    height: 32px;\n",
              "    padding: 0;\n",
              "    width: 32px;\n",
              "  }\n",
              "\n",
              "  .colab-df-quickchart:hover {\n",
              "    background-color: var(--hover-bg-color);\n",
              "    box-shadow: 0 1px 2px rgba(60, 64, 67, 0.3), 0 1px 3px 1px rgba(60, 64, 67, 0.15);\n",
              "    fill: var(--button-hover-fill-color);\n",
              "  }\n",
              "\n",
              "  .colab-df-quickchart-complete:disabled,\n",
              "  .colab-df-quickchart-complete:disabled:hover {\n",
              "    background-color: var(--disabled-bg-color);\n",
              "    fill: var(--disabled-fill-color);\n",
              "    box-shadow: none;\n",
              "  }\n",
              "\n",
              "  .colab-df-spinner {\n",
              "    border: 2px solid var(--fill-color);\n",
              "    border-color: transparent;\n",
              "    border-bottom-color: var(--fill-color);\n",
              "    animation:\n",
              "      spin 1s steps(1) infinite;\n",
              "  }\n",
              "\n",
              "  @keyframes spin {\n",
              "    0% {\n",
              "      border-color: transparent;\n",
              "      border-bottom-color: var(--fill-color);\n",
              "      border-left-color: var(--fill-color);\n",
              "    }\n",
              "    20% {\n",
              "      border-color: transparent;\n",
              "      border-left-color: var(--fill-color);\n",
              "      border-top-color: var(--fill-color);\n",
              "    }\n",
              "    30% {\n",
              "      border-color: transparent;\n",
              "      border-left-color: var(--fill-color);\n",
              "      border-top-color: var(--fill-color);\n",
              "      border-right-color: var(--fill-color);\n",
              "    }\n",
              "    40% {\n",
              "      border-color: transparent;\n",
              "      border-right-color: var(--fill-color);\n",
              "      border-top-color: var(--fill-color);\n",
              "    }\n",
              "    60% {\n",
              "      border-color: transparent;\n",
              "      border-right-color: var(--fill-color);\n",
              "    }\n",
              "    80% {\n",
              "      border-color: transparent;\n",
              "      border-right-color: var(--fill-color);\n",
              "      border-bottom-color: var(--fill-color);\n",
              "    }\n",
              "    90% {\n",
              "      border-color: transparent;\n",
              "      border-bottom-color: var(--fill-color);\n",
              "    }\n",
              "  }\n",
              "</style>\n",
              "\n",
              "      <script>\n",
              "        async function quickchart(key) {\n",
              "          const quickchartButtonEl =\n",
              "            document.querySelector('#' + key + ' button');\n",
              "          quickchartButtonEl.disabled = true;  // To prevent multiple clicks.\n",
              "          quickchartButtonEl.classList.add('colab-df-spinner');\n",
              "          try {\n",
              "            const charts = await google.colab.kernel.invokeFunction(\n",
              "                'suggestCharts', [key], {});\n",
              "          } catch (error) {\n",
              "            console.error('Error during call to suggestCharts:', error);\n",
              "          }\n",
              "          quickchartButtonEl.classList.remove('colab-df-spinner');\n",
              "          quickchartButtonEl.classList.add('colab-df-quickchart-complete');\n",
              "        }\n",
              "        (() => {\n",
              "          let quickchartButtonEl =\n",
              "            document.querySelector('#df-22feb6ca-0460-4148-8ca1-2c3ab8d2edda button');\n",
              "          quickchartButtonEl.style.display =\n",
              "            google.colab.kernel.accessAllowed ? 'block' : 'none';\n",
              "        })();\n",
              "      </script>\n",
              "    </div>\n",
              "\n",
              "    </div>\n",
              "  </div>\n"
            ],
            "application/vnd.google.colaboratory.intrinsic+json": {
              "type": "dataframe",
              "summary": "{\n  \"name\": \"display(train_df\",\n  \"rows\": 41,\n  \"fields\": [\n    {\n      \"column\": \"count\",\n      \"properties\": {\n        \"dtype\": \"number\",\n        \"std\": 3.925526219191635,\n        \"min\": 19982.0,\n        \"max\": 20000.0,\n        \"num_unique_values\": 2,\n        \"samples\": [\n          20000.0,\n          19982.0\n        ],\n        \"semantic_type\": \"\",\n        \"description\": \"\"\n      }\n    },\n    {\n      \"column\": \"mean\",\n      \"properties\": {\n        \"dtype\": \"number\",\n        \"std\": 1.2821950451181199,\n        \"min\": -3.6112515777463,\n        \"max\": 2.48469929426655,\n        \"num_unique_values\": 41,\n        \"samples\": [\n          -0.0021861515306499982,\n          -0.95063236406415\n        ],\n        \"semantic_type\": \"\",\n        \"description\": \"\"\n      }\n    },\n    {\n      \"column\": \"std\",\n      \"properties\": {\n        \"dtype\": \"number\",\n        \"std\": 0.9572906404715243,\n        \"min\": 0.22895932197351632,\n        \"max\": 5.5004001383043635,\n        \"num_unique_values\": 41,\n        \"samples\": [\n          2.016739836693398,\n          1.7896514199143823\n        ],\n        \"semantic_type\": \"\",\n        \"description\": \"\"\n      }\n    },\n    {\n      \"column\": \"min\",\n      \"properties\": {\n        \"dtype\": \"number\",\n        \"std\": 4.11792052236129,\n        \"min\": -20.37415806,\n        \"max\": 0.0,\n        \"num_unique_values\": 41,\n        \"samples\": [\n          -8.228266394,\n          -7.738592625\n        ],\n        \"semantic_type\": \"\",\n        \"description\": \"\"\n      }\n    },\n    {\n      \"column\": \"25%\",\n      \"properties\": {\n        \"dtype\": \"number\",\n        \"std\": 1.4519286286780542,\n        \"min\": -5.93036004925,\n        \"max\": 0.336190675,\n        \"num_unique_values\": 41,\n        \"samples\": [\n          -1.3651782559999999,\n          -2.17074134975\n        ],\n        \"semantic_type\": \"\",\n        \"description\": \"\"\n      }\n    },\n    {\n      \"column\": \"50%\",\n      \"properties\": {\n        \"dtype\": \"number\",\n        \"std\": 1.2534396608652478,\n        \"min\": -3.5328879525000003,\n        \"max\": 2.2557856265,\n        \"num_unique_values\": 41,\n        \"samples\": [\n          0.0250502185,\n          -0.957163073\n        ],\n        \"semantic_type\": \"\",\n        \"description\": \"\"\n      }\n    },\n    {\n      \"column\": \"75%\",\n      \"properties\": {\n        \"dtype\": \"number\",\n        \"std\": 1.3941428579418127,\n        \"min\": -1.2658843822499999,\n        \"max\": 4.566164916,\n        \"num_unique_values\": 41,\n        \"samples\": [\n          1.3971119655,\n          0.27067665025\n        ],\n        \"semantic_type\": \"\",\n        \"description\": \"\"\n      }\n    },\n    {\n      \"column\": \"max\",\n      \"properties\": {\n        \"dtype\": \"number\",\n        \"std\": 4.4792290923530675,\n        \"min\": 1.0,\n        \"max\": 23.63318675,\n        \"num_unique_values\": 41,\n        \"samples\": [\n          8.223388664,\n          5.670663935\n        ],\n        \"semantic_type\": \"\",\n        \"description\": \"\"\n      }\n    }\n  ]\n}"
            }
          },
          "metadata": {}
        }
      ]
    },
    {
      "cell_type": "code",
      "source": [
        "# Check for null values in the data frome\n",
        "print(\"Total count of null values in the entire DataFrame:\")\n",
        "print(train_df.isnull().sum().sum())"
      ],
      "metadata": {
        "colab": {
          "base_uri": "https://localhost:8080/"
        },
        "id": "RwJIQVkAPJtH",
        "outputId": "61264fce-4daf-47dc-ebcd-64cca7719bb3"
      },
      "execution_count": 78,
      "outputs": [
        {
          "output_type": "stream",
          "name": "stdout",
          "text": [
            "Total count of null values in the entire DataFrame:\n",
            "36\n"
          ]
        }
      ]
    },
    {
      "cell_type": "code",
      "source": [
        "\n",
        "print(\"\\n--- Count of Null Values Before Resolution ---\")\n",
        "null_counts_before = train_df.isnull().sum()\n",
        "# Filter to show only columns with null values\n",
        "null_columns_before = null_counts_before[null_counts_before > 0]\n",
        "if not null_columns_before.empty:\n",
        "    print(null_columns_before)\n",
        "else:\n",
        "    print(\"No null values found in the dataset.\")\n",
        "\n",
        "print(\"\\n--- Percentage of Null Values Before Resolution ---\")\n",
        "if not null_columns_before.empty:\n",
        "    null_percentage_before = (null_columns_before / len(train_df)) * 100\n",
        "    print(null_percentage_before.sort_values(ascending=False))\n",
        "else:\n",
        "    print(\"No null values to display percentage for.\")"
      ],
      "metadata": {
        "colab": {
          "base_uri": "https://localhost:8080/"
        },
        "id": "KDeod6poRO9O",
        "outputId": "1b1854cb-8060-452e-92e6-cf35ca2ac0b3"
      },
      "execution_count": 79,
      "outputs": [
        {
          "output_type": "stream",
          "name": "stdout",
          "text": [
            "\n",
            "--- Count of Null Values Before Resolution ---\n",
            "V1    18\n",
            "V2    18\n",
            "dtype: int64\n",
            "\n",
            "--- Percentage of Null Values Before Resolution ---\n",
            "V1    0.09\n",
            "V2    0.09\n",
            "dtype: float64\n"
          ]
        }
      ]
    },
    {
      "cell_type": "markdown",
      "source": [
        "since there are only a few rows with null values, those rows will be dropped"
      ],
      "metadata": {
        "id": "Rd-1Uya8So43"
      }
    },
    {
      "cell_type": "code",
      "source": [
        "# create a copy of the train dataframe\n",
        "train_df_resolved = train_df.copy()\n",
        "print(\"\\n--- Applying Null Value Resolution Strategies ---\")\n",
        "\n",
        "# 1. Drop Rows with Null Values\n",
        "train_df_resolved.dropna(inplace=True)\n",
        "print(\"\\nStrategy: Dropped rows with any null values.\")\n",
        "print(f\"New DataFrame shape after dropping rows: {train_df_resolved.shape}\")"
      ],
      "metadata": {
        "colab": {
          "base_uri": "https://localhost:8080/"
        },
        "id": "YuXoQFV8Svu7",
        "outputId": "f3ed18ba-bc0b-4152-a11e-ad5fa751d4eb"
      },
      "execution_count": 80,
      "outputs": [
        {
          "output_type": "stream",
          "name": "stdout",
          "text": [
            "\n",
            "--- Applying Null Value Resolution Strategies ---\n",
            "\n",
            "Strategy: Dropped rows with any null values.\n",
            "New DataFrame shape after dropping rows: (19964, 41)\n"
          ]
        }
      ]
    },
    {
      "cell_type": "code",
      "source": [
        "# Check after the resolution, the number of null values in the rows\n",
        "print(\"\\n--- Count of Null Values After Resolution ---\")\n",
        "null_counts_after = train_df_resolved.isnull().sum()\n",
        "null_columns_after = null_counts_after[null_counts_after > 0]\n",
        "if not null_columns_after.empty:\n",
        "    print(null_columns_after)\n",
        "else:\n",
        "    print(\"No null values remaining in the DataFrame.\")"
      ],
      "metadata": {
        "colab": {
          "base_uri": "https://localhost:8080/"
        },
        "id": "cCdiPooTULym",
        "outputId": "497795c4-6f42-4ee4-dd53-54e4999c3e7b"
      },
      "execution_count": 81,
      "outputs": [
        {
          "output_type": "stream",
          "name": "stdout",
          "text": [
            "\n",
            "--- Count of Null Values After Resolution ---\n",
            "No null values remaining in the DataFrame.\n"
          ]
        }
      ]
    },
    {
      "cell_type": "code",
      "source": [
        "# --- Resolving Duplicate Values ---\n",
        "print(\"\\n--- Checking for Duplicate Rows ---\")\n",
        "duplicate_rows = train_df_resolved.duplicated()\n",
        "num_duplicates = duplicate_rows.sum()\n",
        "\n",
        "if num_duplicates > 0:\n",
        "    print(f\"Found {num_duplicates} duplicate rows in the DataFrame.\")\n",
        "    print(\"Example of duplicate rows (first 5, if any):\")\n",
        "    print(train_df_resolved[duplicate_rows].head())\n",
        "\n",
        "    # Strategy: Remove duplicate rows\n",
        "    train_df_resolved.drop_duplicates(subset=['col1', 'col2'], inplace=True)\n",
        "    train_df_resolved.drop_duplicates(inplace=True)\n",
        "    print(f\"\\nStrategy: Removed {num_duplicates} duplicate rows.\")\n",
        "    print(f\"New DataFrame shape after removing duplicates: {train_df_resolved.shape}\")\n",
        "else:\n",
        "    print(\"No duplicate rows found in the DataFrame.\")\n",
        "\n",
        "print(\"\\n--- First 5 rows of DataFrame after all resolutions ---\")\n",
        "print(train_df_resolved.head())\n",
        "\n",
        "print(\"\\n--- Final DataFrame Info After All Resolutions ---\")\n",
        "train_df_resolved.info()\n"
      ],
      "metadata": {
        "colab": {
          "base_uri": "https://localhost:8080/"
        },
        "id": "b6sby_pYUrkR",
        "outputId": "a597304e-e1d7-4947-8993-1a6d0e60bceb"
      },
      "execution_count": 82,
      "outputs": [
        {
          "output_type": "stream",
          "name": "stdout",
          "text": [
            "\n",
            "--- Checking for Duplicate Rows ---\n",
            "No duplicate rows found in the DataFrame.\n",
            "\n",
            "--- First 5 rows of DataFrame after all resolutions ---\n",
            "         V1        V2        V3        V4        V5        V6        V7  \\\n",
            "0 -4.464606 -4.679129  3.101546  0.506130 -0.221083 -2.032511 -2.910870   \n",
            "1  3.365912  3.653381  0.909671 -1.367528  0.332016  2.358938  0.732600   \n",
            "2 -3.831843 -5.824444  0.634031 -2.418815 -1.773827  1.016824 -2.098941   \n",
            "3  1.618098  1.888342  7.046143 -1.147285  0.083080 -1.529780  0.207309   \n",
            "4 -0.111440  3.872488 -3.758361 -2.982897  3.792714  0.544960  0.205433   \n",
            "\n",
            "         V8        V9       V10  ...       V32       V33        V34       V35  \\\n",
            "0  0.050714 -1.522351  3.761892  ...  3.059700 -1.690440   2.846296  2.235198   \n",
            "1 -4.332135  0.565695 -0.101080  ... -1.795474  3.032780  -2.467514  1.894599   \n",
            "2 -3.173204 -2.081860  5.392621  ... -0.257101  0.803550   4.086219  2.292138   \n",
            "3 -2.493629  0.344926  2.118578  ... -3.584425 -2.577474   1.363769  0.622714   \n",
            "4  4.848994 -1.854920 -6.220023  ...  8.265896  6.629213 -10.068689  1.222987   \n",
            "\n",
            "        V36       V37       V38       V39       V40  Target  \n",
            "0  6.667486  0.443809 -2.369169  2.950578 -3.480324       0  \n",
            "1 -2.297780 -1.731048  5.908837 -0.386345  0.616242       0  \n",
            "2  5.360850  0.351993  2.940021  3.839160 -4.309402       0  \n",
            "3  5.550100 -1.526796  0.138853  3.101430 -1.277378       0  \n",
            "4 -3.229763  1.686909 -2.163896 -3.644622  6.510338       0  \n",
            "\n",
            "[5 rows x 41 columns]\n",
            "\n",
            "--- Final DataFrame Info After All Resolutions ---\n",
            "<class 'pandas.core.frame.DataFrame'>\n",
            "Index: 19964 entries, 0 to 19999\n",
            "Data columns (total 41 columns):\n",
            " #   Column  Non-Null Count  Dtype  \n",
            "---  ------  --------------  -----  \n",
            " 0   V1      19964 non-null  float64\n",
            " 1   V2      19964 non-null  float64\n",
            " 2   V3      19964 non-null  float64\n",
            " 3   V4      19964 non-null  float64\n",
            " 4   V5      19964 non-null  float64\n",
            " 5   V6      19964 non-null  float64\n",
            " 6   V7      19964 non-null  float64\n",
            " 7   V8      19964 non-null  float64\n",
            " 8   V9      19964 non-null  float64\n",
            " 9   V10     19964 non-null  float64\n",
            " 10  V11     19964 non-null  float64\n",
            " 11  V12     19964 non-null  float64\n",
            " 12  V13     19964 non-null  float64\n",
            " 13  V14     19964 non-null  float64\n",
            " 14  V15     19964 non-null  float64\n",
            " 15  V16     19964 non-null  float64\n",
            " 16  V17     19964 non-null  float64\n",
            " 17  V18     19964 non-null  float64\n",
            " 18  V19     19964 non-null  float64\n",
            " 19  V20     19964 non-null  float64\n",
            " 20  V21     19964 non-null  float64\n",
            " 21  V22     19964 non-null  float64\n",
            " 22  V23     19964 non-null  float64\n",
            " 23  V24     19964 non-null  float64\n",
            " 24  V25     19964 non-null  float64\n",
            " 25  V26     19964 non-null  float64\n",
            " 26  V27     19964 non-null  float64\n",
            " 27  V28     19964 non-null  float64\n",
            " 28  V29     19964 non-null  float64\n",
            " 29  V30     19964 non-null  float64\n",
            " 30  V31     19964 non-null  float64\n",
            " 31  V32     19964 non-null  float64\n",
            " 32  V33     19964 non-null  float64\n",
            " 33  V34     19964 non-null  float64\n",
            " 34  V35     19964 non-null  float64\n",
            " 35  V36     19964 non-null  float64\n",
            " 36  V37     19964 non-null  float64\n",
            " 37  V38     19964 non-null  float64\n",
            " 38  V39     19964 non-null  float64\n",
            " 39  V40     19964 non-null  float64\n",
            " 40  Target  19964 non-null  int64  \n",
            "dtypes: float64(40), int64(1)\n",
            "memory usage: 6.4 MB\n"
          ]
        }
      ]
    },
    {
      "cell_type": "code",
      "source": [
        "print(f\"Shape: {train_df_resolved.shape}\")"
      ],
      "metadata": {
        "colab": {
          "base_uri": "https://localhost:8080/"
        },
        "id": "NjhJHuO0civF",
        "outputId": "fe7d4e29-5249-445b-a152-8b989ec24c8b"
      },
      "execution_count": 83,
      "outputs": [
        {
          "output_type": "stream",
          "name": "stdout",
          "text": [
            "Shape: (19964, 41)\n"
          ]
        }
      ]
    },
    {
      "cell_type": "markdown",
      "source": [
        "*   The data set has now been processed for missing values and null values\n",
        "*   The data consists of 19,964 training amples, each with 40 features.\n",
        "*   All features are numerical, and there are no missing values.\n",
        "*   The features have widely different scales, making feature scaling a mandatory preprocessing step.\n",
        "\n",
        "\n",
        "\n"
      ],
      "metadata": {
        "id": "6knxKNoccwoh"
      }
    },
    {
      "cell_type": "markdown",
      "source": [
        "**Exploratory Data Analysis**\n",
        "# Univariate analysis\n",
        "# Analyzing the target variable is crucial, especially for classification problems."
      ],
      "metadata": {
        "id": "GPQHi4nHdrEw"
      }
    },
    {
      "cell_type": "code",
      "source": [
        "# Plot the distribution of the target variable\n",
        "plt.figure(figsize=(8, 6))\n",
        "ax = sns.countplot(x='Target', data=train_df_resolved, palette='viridis')\n",
        "plt.title('Target Variable Distribution (0: No Failure, 1: Failure)', fontsize=16)\n",
        "plt.xlabel('Generator Status', fontsize=12)\n",
        "plt.ylabel('Number of Samples', fontsize=12)\n",
        "\n",
        "# Annotate bars with percentages\n",
        "total = len(train_df_resolved)\n",
        "for p in ax.patches:\n",
        "    percentage = f'{100 * p.get_height() / total:.1f}%'\n",
        "    x = p.get_x() + p.get_width() / 2\n",
        "    y = p.get_height()\n",
        "    ax.annotate(percentage, (x, y), ha='center', va='bottom', fontsize=12, color='black')\n",
        "plt.show()"
      ],
      "metadata": {
        "colab": {
          "base_uri": "https://localhost:8080/",
          "height": 570
        },
        "id": "o7s5EdX3d7X_",
        "outputId": "d89fcbd3-513e-4086-f8a5-990ff6100641"
      },
      "execution_count": 84,
      "outputs": [
        {
          "output_type": "display_data",
          "data": {
            "text/plain": [
              "<Figure size 800x600 with 1 Axes>"
            ],
            "image/png": "[encoded data removed]"
          },
          "metadata": {}
        }
      ]
    },
    {
      "cell_type": "markdown",
      "source": [
        "5.6 % belong to the failure class, which is suggestive of data imbalance. This wll be resolved subsequently"
      ],
      "metadata": {
        "id": "3Ntdk09NgmuI"
      }
    },
    {
      "cell_type": "markdown",
      "source": [
        "**Bivariate Analysis\n",
        "\n",
        "```\n",
        "Feature-To-Feature Correlations\n",
        "```\n",
        "\n",
        "**"
      ],
      "metadata": {
        "id": "gO0nc96yhM_e"
      }
    },
    {
      "cell_type": "code",
      "source": [
        "# Compute and plot the correlation matrix\n",
        "plt.figure(figsize=(12, 10))\n",
        "sns.heatmap(train_df_resolved.drop('Target', axis=1).corr(), cmap='coolwarm', annot=False)\n",
        "plt.title('Feature Correlation Matrix', fontsize=16)\n",
        "plt.show()"
      ],
      "metadata": {
        "colab": {
          "base_uri": "https://localhost:8080/",
          "height": 868
        },
        "id": "hxCsobFxhSiA",
        "outputId": "7bb93754-e430-4792-a9b1-f92f3c730401"
      },
      "execution_count": 85,
      "outputs": [
        {
          "output_type": "display_data",
          "data": {
            "text/plain": [
              "<Figure size 1200x1000 with 2 Axes>"
            ],
            "image/png": "[encoded data removed]"
          },
          "metadata": {}
        }
      ]
    },
    {
      "cell_type": "markdown",
      "source": [
        "**Observation:** There are several clusters of correlated features. While tree-based models are less sensitive to this, it reinforces the need for powerful models such as Random Forest or XGBoost or neural networks (TensorFlow/Keras) that can handle complex inter-feature relationships."
      ],
      "metadata": {
        "id": "OrDxxEPvhjf1"
      }
    },
    {
      "cell_type": "markdown",
      "source": [
        "**MORE EXPLORATORY DATA ANALYSIS**"
      ],
      "metadata": {
        "id": "8KxeHwczJN3L"
      }
    },
    {
      "cell_type": "markdown",
      "source": [
        "**Checking Feature Distribution**"
      ],
      "metadata": {
        "id": "EPo7-jc8KCTz"
      }
    },
    {
      "cell_type": "code",
      "source": [
        "# Univariate analysis\n",
        "print(\"\\n--- Univariate Analysis (Sample Feature Distribution) ---\")\n",
        "# Plot distributions of a few sample features\n",
        "fig, axes = plt.subplots(2, 2, figsize=(14, 10))\n",
        "sns.histplot(train_df_resolved['V1'], kde=True, ax=axes[0, 0], color='skyblue')\n",
        "axes[0, 0].set_title('Distribution of V1')\n",
        "sns.histplot(train_df_resolved['V2'], kde=True, ax=axes[0, 1], color='lightcoral')\n",
        "axes[0, 1].set_title('Distribution of V2')\n",
        "sns.histplot(train_df_resolved['V3'], kde=True, ax=axes[1, 0], color='lightgreen')\n",
        "axes[1, 0].set_title('Distribution of V3')\n",
        "sns.histplot(train_df_resolved['V4'], kde=True, ax=axes[1, 1], color='lightsalmon')\n",
        "axes[1, 1].set_title('Distribution of V4')\n",
        "plt.tight_layout()\n",
        "plt.show()"
      ],
      "metadata": {
        "colab": {
          "base_uri": "https://localhost:8080/",
          "height": 1000
        },
        "id": "Tpk48kDkOf_C",
        "outputId": "2f9a87f5-9e3a-4c5e-e067-f7e6a2bcca9e"
      },
      "execution_count": 86,
      "outputs": [
        {
          "output_type": "stream",
          "name": "stdout",
          "text": [
            "\n",
            "--- Univariate Analysis (Sample Feature Distribution) ---\n"
          ]
        },
        {
          "output_type": "display_data",
          "data": {
            "text/plain": [
              "<Figure size 1400x1000 with 4 Axes>"
            ],
            "image/png": "[encoded data removed]"
          },
          "metadata": {}
        }
      ]
    },
    {
      "cell_type": "markdown",
      "source": [
        "The representative sample of feautures show tht the variables appear to haave a normal distribution"
      ],
      "metadata": {
        "id": "uWAA0serMqsn"
      }
    },
    {
      "cell_type": "markdown",
      "source": [
        "**More Bivariate Analysis**\n",
        "**Feature Target Correlation**"
      ],
      "metadata": {
        "id": "pu-qGezNOQBU"
      }
    },
    {
      "cell_type": "code",
      "source": [
        "print(\"\\n--- Bivariate Analysis (Correlation Matrix) ---\")\n",
        "# Correlation matrix (too many features, so let's sample or focus on target correlation)\n",
        "# For 40 features, a direct heatmap of all features might be too dense.\n",
        "# Let's look at correlation with the target variable.\n",
        "correlations = train_df_resolved.corr()['Target'].sort_values(ascending=False)\n",
        "print(\"Top 10 features most correlated with target:\")\n",
        "print(correlations.head(11)) # 11 to include 'Target' itself\n",
        "print(\"\\nBottom 10 features most correlated (negatively) with target:\")\n",
        "print(correlations.tail(10))"
      ],
      "metadata": {
        "colab": {
          "base_uri": "https://localhost:8080/"
        },
        "id": "jsalIfjtOYio",
        "outputId": "0557db30-71c9-46a4-fbd3-b23a0ab79291"
      },
      "execution_count": 87,
      "outputs": [
        {
          "output_type": "stream",
          "name": "stdout",
          "text": [
            "\n",
            "--- Bivariate Analysis (Correlation Matrix) ---\n",
            "Top 10 features most correlated with target:\n",
            "Target    1.000000\n",
            "V21       0.256535\n",
            "V15       0.249242\n",
            "V7        0.237063\n",
            "V16       0.230601\n",
            "V28       0.207548\n",
            "V11       0.196805\n",
            "V34       0.153944\n",
            "V8        0.136098\n",
            "V14       0.117679\n",
            "V4        0.110834\n",
            "Name: Target, dtype: float64\n",
            "\n",
            "Bottom 10 features most correlated (negatively) with target:\n",
            "V33   -0.102659\n",
            "V22   -0.134778\n",
            "V31   -0.137027\n",
            "V13   -0.139796\n",
            "V35   -0.145778\n",
            "V26   -0.180606\n",
            "V3    -0.214001\n",
            "V36   -0.216504\n",
            "V39   -0.227289\n",
            "V18   -0.293483\n",
            "Name: Target, dtype: float64\n"
          ]
        }
      ]
    },
    {
      "cell_type": "code",
      "source": [
        "plt.figure(figsize=(10, 8))\n",
        "sns.barplot(x=correlations.index[:10], y=correlations.values[:10], palette='viridis')\n",
        "plt.title('Top 10 Features Positively Correlated with Target')\n",
        "plt.xticks(rotation=45, ha='right')\n",
        "plt.ylabel('Correlation Coefficient')\n",
        "plt.show()"
      ],
      "metadata": {
        "colab": {
          "base_uri": "https://localhost:8080/",
          "height": 745
        },
        "id": "4SKisGrTPDiN",
        "outputId": "a8903353-e926-41b8-fd11-5ec5a1f8ad0f"
      },
      "execution_count": 88,
      "outputs": [
        {
          "output_type": "display_data",
          "data": {
            "text/plain": [
              "<Figure size 1000x800 with 1 Axes>"
            ],
            "image/png": "[encoded data removed]"
          },
          "metadata": {}
        }
      ]
    },
    {
      "cell_type": "markdown",
      "source": [
        "The barplot shows the most significant Variable features that are most correlative with the Target feature"
      ],
      "metadata": {
        "id": "Duu0punZQIT0"
      }
    },
    {
      "cell_type": "code",
      "source": [
        "# Box plots of sample features against target\n",
        "fig, axes = plt.subplots(2, 2, figsize=(14, 10))\n",
        "sns.boxplot(x='Target', y='V1', data=train_df_resolved, ax=axes[0, 0], palette='coolwarm')\n",
        "axes[0, 0].set_title('V1 vs Target')\n",
        "sns.boxplot(x='Target', y='V2', data=train_df_resolved, ax=axes[0, 1], palette='coolwarm')\n",
        "axes[0, 1].set_title('V2 vs Target')\n",
        "sns.boxplot(x='Target', y='V3', data=train_df_resolved, ax=axes[1, 0], palette='coolwarm')\n",
        "axes[1, 0].set_title('V3 vs Target')\n",
        "sns.boxplot(x='Target', y='V4', data=train_df_resolved, ax=axes[1, 1], palette='coolwarm')\n",
        "axes[1, 1].set_title('V4 vs Target')\n",
        "plt.tight_layout()\n",
        "plt.show()"
      ],
      "metadata": {
        "colab": {
          "base_uri": "https://localhost:8080/",
          "height": 1000
        },
        "id": "DrtMgRVAPsae",
        "outputId": "5486408a-b088-4481-9606-ebbd48734676"
      },
      "execution_count": 89,
      "outputs": [
        {
          "output_type": "display_data",
          "data": {
            "text/plain": [
              "<Figure size 1400x1000 with 4 Axes>"
            ],
            "image/png": "[encoded data removed]"
          },
          "metadata": {}
        }
      ]
    },
    {
      "cell_type": "markdown",
      "source": [
        "The box plots tells us these four features are useful for telling the difference between \"No Failure\" and \"Failure\" generators. A machine learning model could use this difference to learn how to predict whether a generator will fail or not."
      ],
      "metadata": {
        "id": "K3OB7kKuV-v6"
      }
    },
    {
      "cell_type": "markdown",
      "source": [
        "**Data Preprocessing**\n",
        "**Data Seperation, Train-validation-Test Split and Feature Scaling**"
      ],
      "metadata": {
        "id": "D7igzhcCP29S"
      }
    },
    {
      "cell_type": "code",
      "source": [
        "# Separate features and target variable\n",
        "X = train_df_resolved.drop('Target', axis=1)\n",
        "y = train_df_resolved['Target']"
      ],
      "metadata": {
        "id": "RzaFFKoXP2uP"
      },
      "execution_count": 90,
      "outputs": []
    },
    {
      "cell_type": "code",
      "source": [
        "# Seperate features and target variable for test_df\n",
        "X_test_final = test_df.drop('Target', axis=1)\n",
        "y_test_final = test_df['Target']"
      ],
      "metadata": {
        "id": "7eMmIV1ISwwo"
      },
      "execution_count": 91,
      "outputs": []
    },
    {
      "cell_type": "code",
      "source": [
        "# Split training data into training and validation sets\n",
        "X_train, X_val, y_train, y_val = train_test_split(X, y, test_size=0.2, random_state=42, stratify=y)"
      ],
      "metadata": {
        "id": "X124DxTdTDqu"
      },
      "execution_count": 92,
      "outputs": []
    },
    {
      "cell_type": "code",
      "source": [
        "# Initialize StandardScaler\n",
        "scaler = StandardScaler()"
      ],
      "metadata": {
        "id": "ckgIimU8Tdom"
      },
      "execution_count": 93,
      "outputs": []
    },
    {
      "cell_type": "code",
      "source": [
        "# Fit scaler on training data and transform both training and validation data\n",
        "X_train_scaled = scaler.fit_transform(X_train)\n",
        "X_val_scaled = scaler.transform(X_val)\n",
        "X_test_final_scaled = scaler.transform(X_test_final)"
      ],
      "metadata": {
        "id": "27-NCSxgTl-K"
      },
      "execution_count": 94,
      "outputs": []
    },
    {
      "cell_type": "code",
      "source": [
        "print(\"\\nData Preprocessing Complete:\")\n",
        "print(f\"X_train_scaled shape: {X_train_scaled.shape}\")\n",
        "print(f\"X_val_scaled shape: {X_val_scaled.shape}\")\n",
        "print(f\"X_test_final_scaled shape: {X_test_final_scaled.shape}\")"
      ],
      "metadata": {
        "colab": {
          "base_uri": "https://localhost:8080/"
        },
        "id": "dj4o47YmTty8",
        "outputId": "3f8fb7fb-cfbb-450a-f574-95aaa662f419"
      },
      "execution_count": 95,
      "outputs": [
        {
          "output_type": "stream",
          "name": "stdout",
          "text": [
            "\n",
            "Data Preprocessing Complete:\n",
            "X_train_scaled shape: (15971, 40)\n",
            "X_val_scaled shape: (3993, 40)\n",
            "X_test_final_scaled shape: (5000, 40)\n"
          ]
        }
      ]
    },
    {
      "cell_type": "code",
      "source": [
        "# Handle class imbalance using SMOTE\n",
        "from imblearn.over_sampling import SMOTE\n",
        "\n",
        "smote = SMOTE(random_state=42)\n",
        "X_train_res, y_train_res = smote.fit_resample(X_train_scaled, y_train)"
      ],
      "metadata": {
        "id": "lF4FxnNlWp4H"
      },
      "execution_count": 96,
      "outputs": []
    },
    {
      "cell_type": "markdown",
      "source": [
        "**Primary Model: Random Forest Classifier**"
      ],
      "metadata": {
        "id": "ODFW6KzemGj-"
      }
    },
    {
      "cell_type": "code",
      "source": [
        "# Train Random Forest Classifier\n",
        "rf_model = RandomForestClassifier(\n",
        "    n_estimators=100,\n",
        "    max_depth=10,\n",
        "    min_samples_split=5,\n",
        "    min_samples_leaf=2,\n",
        "    max_features='sqrt',\n",
        "    random_state=42,\n",
        "    class_weight='balanced'\n",
        ")\n",
        "\n",
        "rf_model.fit(X_train_res, y_train_res)"
      ],
      "metadata": {
        "colab": {
          "base_uri": "https://localhost:8080/",
          "height": 115
        },
        "id": "_n6SmKEEW5IB",
        "outputId": "f3d977f0-968d-4a9d-8683-d33a58f92341"
      },
      "execution_count": 97,
      "outputs": [
        {
          "output_type": "execute_result",
          "data": {
            "text/plain": [
              "RandomForestClassifier(class_weight='balanced', max_depth=10,\n",
              "                       min_samples_leaf=2, min_samples_split=5,\n",
              "                       random_state=42)"
            ],
            "text/html": [
              "<style>#sk-container-id-3 {\n",
              "  /* Definition of color scheme common for light and dark mode */\n",
              "  --sklearn-color-text: #000;\n",
              "  --sklearn-color-text-muted: #666;\n",
              "  --sklearn-color-line: gray;\n",
              "  /* Definition of color scheme for unfitted estimators */\n",
              "  --sklearn-color-unfitted-level-0: #fff5e6;\n",
              "  --sklearn-color-unfitted-level-1: #f6e4d2;\n",
              "  --sklearn-color-unfitted-level-2: #ffe0b3;\n",
              "  --sklearn-color-unfitted-level-3: chocolate;\n",
              "  /* Definition of color scheme for fitted estimators */\n",
              "  --sklearn-color-fitted-level-0: #f0f8ff;\n",
              "  --sklearn-color-fitted-level-1: #d4ebff;\n",
              "  --sklearn-color-fitted-level-2: #b3dbfd;\n",
              "  --sklearn-color-fitted-level-3: cornflowerblue;\n",
              "\n",
              "  /* Specific color for light theme */\n",
              "  --sklearn-color-text-on-default-background: var(--sg-text-color, var(--theme-code-foreground, var(--jp-content-font-color1, black)));\n",
              "  --sklearn-color-background: var(--sg-background-color, var(--theme-background, var(--jp-layout-color0, white)));\n",
              "  --sklearn-color-border-box: var(--sg-text-color, var(--theme-code-foreground, var(--jp-content-font-color1, black)));\n",
              "  --sklearn-color-icon: #696969;\n",
              "\n",
              "  @media (prefers-color-scheme: dark) {\n",
              "    /* Redefinition of color scheme for dark theme */\n",
              "    --sklearn-color-text-on-default-background: var(--sg-text-color, var(--theme-code-foreground, var(--jp-content-font-color1, white)));\n",
              "    --sklearn-color-background: var(--sg-background-color, var(--theme-background, var(--jp-layout-color0, #111)));\n",
              "    --sklearn-color-border-box: var(--sg-text-color, var(--theme-code-foreground, var(--jp-content-font-color1, white)));\n",
              "    --sklearn-color-icon: #878787;\n",
              "  }\n",
              "}\n",
              "\n",
              "#sk-container-id-3 {\n",
              "  color: var(--sklearn-color-text);\n",
              "}\n",
              "\n",
              "#sk-container-id-3 pre {\n",
              "  padding: 0;\n",
              "}\n",
              "\n",
              "#sk-container-id-3 input.sk-hidden--visually {\n",
              "  border: 0;\n",
              "  clip: rect(1px 1px 1px 1px);\n",
              "  clip: rect(1px, 1px, 1px, 1px);\n",
              "  height: 1px;\n",
              "  margin: -1px;\n",
              "  overflow: hidden;\n",
              "  padding: 0;\n",
              "  position: absolute;\n",
              "  width: 1px;\n",
              "}\n",
              "\n",
              "#sk-container-id-3 div.sk-dashed-wrapped {\n",
              "  border: 1px dashed var(--sklearn-color-line);\n",
              "  margin: 0 0.4em 0.5em 0.4em;\n",
              "  box-sizing: border-box;\n",
              "  padding-bottom: 0.4em;\n",
              "  background-color: var(--sklearn-color-background);\n",
              "}\n",
              "\n",
              "#sk-container-id-3 div.sk-container {\n",
              "  /* jupyter's `normalize.less` sets `[hidden] { display: none; }`\n",
              "     but bootstrap.min.css set `[hidden] { display: none !important; }`\n",
              "     so we also need the `!important` here to be able to override the\n",
              "     default hidden behavior on the sphinx rendered scikit-learn.org.\n",
              "     See: https://github.com/scikit-learn/scikit-learn/issues/21755 */\n",
              "  display: inline-block !important;\n",
              "  position: relative;\n",
              "}\n",
              "\n",
              "#sk-container-id-3 div.sk-text-repr-fallback {\n",
              "  display: none;\n",
              "}\n",
              "\n",
              "div.sk-parallel-item,\n",
              "div.sk-serial,\n",
              "div.sk-item {\n",
              "  /* draw centered vertical line to link estimators */\n",
              "  background-image: linear-gradient(var(--sklearn-color-text-on-default-background), var(--sklearn-color-text-on-default-background));\n",
              "  background-size: 2px 100%;\n",
              "  background-repeat: no-repeat;\n",
              "  background-position: center center;\n",
              "}\n",
              "\n",
              "/* Parallel-specific style estimator block */\n",
              "\n",
              "#sk-container-id-3 div.sk-parallel-item::after {\n",
              "  content: \"\";\n",
              "  width: 100%;\n",
              "  border-bottom: 2px solid var(--sklearn-color-text-on-default-background);\n",
              "  flex-grow: 1;\n",
              "}\n",
              "\n",
              "#sk-container-id-3 div.sk-parallel {\n",
              "  display: flex;\n",
              "  align-items: stretch;\n",
              "  justify-content: center;\n",
              "  background-color: var(--sklearn-color-background);\n",
              "  position: relative;\n",
              "}\n",
              "\n",
              "#sk-container-id-3 div.sk-parallel-item {\n",
              "  display: flex;\n",
              "  flex-direction: column;\n",
              "}\n",
              "\n",
              "#sk-container-id-3 div.sk-parallel-item:first-child::after {\n",
              "  align-self: flex-end;\n",
              "  width: 50%;\n",
              "}\n",
              "\n",
              "#sk-container-id-3 div.sk-parallel-item:last-child::after {\n",
              "  align-self: flex-start;\n",
              "  width: 50%;\n",
              "}\n",
              "\n",
              "#sk-container-id-3 div.sk-parallel-item:only-child::after {\n",
              "  width: 0;\n",
              "}\n",
              "\n",
              "/* Serial-specific style estimator block */\n",
              "\n",
              "#sk-container-id-3 div.sk-serial {\n",
              "  display: flex;\n",
              "  flex-direction: column;\n",
              "  align-items: center;\n",
              "  background-color: var(--sklearn-color-background);\n",
              "  padding-right: 1em;\n",
              "  padding-left: 1em;\n",
              "}\n",
              "\n",
              "\n",
              "/* Toggleable style: style used for estimator/Pipeline/ColumnTransformer box that is\n",
              "clickable and can be expanded/collapsed.\n",
              "- Pipeline and ColumnTransformer use this feature and define the default style\n",
              "- Estimators will overwrite some part of the style using the `sk-estimator` class\n",
              "*/\n",
              "\n",
              "/* Pipeline and ColumnTransformer style (default) */\n",
              "\n",
              "#sk-container-id-3 div.sk-toggleable {\n",
              "  /* Default theme specific background. It is overwritten whether we have a\n",
              "  specific estimator or a Pipeline/ColumnTransformer */\n",
              "  background-color: var(--sklearn-color-background);\n",
              "}\n",
              "\n",
              "/* Toggleable label */\n",
              "#sk-container-id-3 label.sk-toggleable__label {\n",
              "  cursor: pointer;\n",
              "  display: flex;\n",
              "  width: 100%;\n",
              "  margin-bottom: 0;\n",
              "  padding: 0.5em;\n",
              "  box-sizing: border-box;\n",
              "  text-align: center;\n",
              "  align-items: start;\n",
              "  justify-content: space-between;\n",
              "  gap: 0.5em;\n",
              "}\n",
              "\n",
              "#sk-container-id-3 label.sk-toggleable__label .caption {\n",
              "  font-size: 0.6rem;\n",
              "  font-weight: lighter;\n",
              "  color: var(--sklearn-color-text-muted);\n",
              "}\n",
              "\n",
              "#sk-container-id-3 label.sk-toggleable__label-arrow:before {\n",
              "  /* Arrow on the left of the label */\n",
              "  content: \"▸\";\n",
              "  float: left;\n",
              "  margin-right: 0.25em;\n",
              "  color: var(--sklearn-color-icon);\n",
              "}\n",
              "\n",
              "#sk-container-id-3 label.sk-toggleable__label-arrow:hover:before {\n",
              "  color: var(--sklearn-color-text);\n",
              "}\n",
              "\n",
              "/* Toggleable content - dropdown */\n",
              "\n",
              "#sk-container-id-3 div.sk-toggleable__content {\n",
              "  max-height: 0;\n",
              "  max-width: 0;\n",
              "  overflow: hidden;\n",
              "  text-align: left;\n",
              "  /* unfitted */\n",
              "  background-color: var(--sklearn-color-unfitted-level-0);\n",
              "}\n",
              "\n",
              "#sk-container-id-3 div.sk-toggleable__content.fitted {\n",
              "  /* fitted */\n",
              "  background-color: var(--sklearn-color-fitted-level-0);\n",
              "}\n",
              "\n",
              "#sk-container-id-3 div.sk-toggleable__content pre {\n",
              "  margin: 0.2em;\n",
              "  border-radius: 0.25em;\n",
              "  color: var(--sklearn-color-text);\n",
              "  /* unfitted */\n",
              "  background-color: var(--sklearn-color-unfitted-level-0);\n",
              "}\n",
              "\n",
              "#sk-container-id-3 div.sk-toggleable__content.fitted pre {\n",
              "  /* unfitted */\n",
              "  background-color: var(--sklearn-color-fitted-level-0);\n",
              "}\n",
              "\n",
              "#sk-container-id-3 input.sk-toggleable__control:checked~div.sk-toggleable__content {\n",
              "  /* Expand drop-down */\n",
              "  max-height: 200px;\n",
              "  max-width: 100%;\n",
              "  overflow: auto;\n",
              "}\n",
              "\n",
              "#sk-container-id-3 input.sk-toggleable__control:checked~label.sk-toggleable__label-arrow:before {\n",
              "  content: \"▾\";\n",
              "}\n",
              "\n",
              "/* Pipeline/ColumnTransformer-specific style */\n",
              "\n",
              "#sk-container-id-3 div.sk-label input.sk-toggleable__control:checked~label.sk-toggleable__label {\n",
              "  color: var(--sklearn-color-text);\n",
              "  background-color: var(--sklearn-color-unfitted-level-2);\n",
              "}\n",
              "\n",
              "#sk-container-id-3 div.sk-label.fitted input.sk-toggleable__control:checked~label.sk-toggleable__label {\n",
              "  background-color: var(--sklearn-color-fitted-level-2);\n",
              "}\n",
              "\n",
              "/* Estimator-specific style */\n",
              "\n",
              "/* Colorize estimator box */\n",
              "#sk-container-id-3 div.sk-estimator input.sk-toggleable__control:checked~label.sk-toggleable__label {\n",
              "  /* unfitted */\n",
              "  background-color: var(--sklearn-color-unfitted-level-2);\n",
              "}\n",
              "\n",
              "#sk-container-id-3 div.sk-estimator.fitted input.sk-toggleable__control:checked~label.sk-toggleable__label {\n",
              "  /* fitted */\n",
              "  background-color: var(--sklearn-color-fitted-level-2);\n",
              "}\n",
              "\n",
              "#sk-container-id-3 div.sk-label label.sk-toggleable__label,\n",
              "#sk-container-id-3 div.sk-label label {\n",
              "  /* The background is the default theme color */\n",
              "  color: var(--sklearn-color-text-on-default-background);\n",
              "}\n",
              "\n",
              "/* On hover, darken the color of the background */\n",
              "#sk-container-id-3 div.sk-label:hover label.sk-toggleable__label {\n",
              "  color: var(--sklearn-color-text);\n",
              "  background-color: var(--sklearn-color-unfitted-level-2);\n",
              "}\n",
              "\n",
              "/* Label box, darken color on hover, fitted */\n",
              "#sk-container-id-3 div.sk-label.fitted:hover label.sk-toggleable__label.fitted {\n",
              "  color: var(--sklearn-color-text);\n",
              "  background-color: var(--sklearn-color-fitted-level-2);\n",
              "}\n",
              "\n",
              "/* Estimator label */\n",
              "\n",
              "#sk-container-id-3 div.sk-label label {\n",
              "  font-family: monospace;\n",
              "  font-weight: bold;\n",
              "  display: inline-block;\n",
              "  line-height: 1.2em;\n",
              "}\n",
              "\n",
              "#sk-container-id-3 div.sk-label-container {\n",
              "  text-align: center;\n",
              "}\n",
              "\n",
              "/* Estimator-specific */\n",
              "#sk-container-id-3 div.sk-estimator {\n",
              "  font-family: monospace;\n",
              "  border: 1px dotted var(--sklearn-color-border-box);\n",
              "  border-radius: 0.25em;\n",
              "  box-sizing: border-box;\n",
              "  margin-bottom: 0.5em;\n",
              "  /* unfitted */\n",
              "  background-color: var(--sklearn-color-unfitted-level-0);\n",
              "}\n",
              "\n",
              "#sk-container-id-3 div.sk-estimator.fitted {\n",
              "  /* fitted */\n",
              "  background-color: var(--sklearn-color-fitted-level-0);\n",
              "}\n",
              "\n",
              "/* on hover */\n",
              "#sk-container-id-3 div.sk-estimator:hover {\n",
              "  /* unfitted */\n",
              "  background-color: var(--sklearn-color-unfitted-level-2);\n",
              "}\n",
              "\n",
              "#sk-container-id-3 div.sk-estimator.fitted:hover {\n",
              "  /* fitted */\n",
              "  background-color: var(--sklearn-color-fitted-level-2);\n",
              "}\n",
              "\n",
              "/* Specification for estimator info (e.g. \"i\" and \"?\") */\n",
              "\n",
              "/* Common style for \"i\" and \"?\" */\n",
              "\n",
              ".sk-estimator-doc-link,\n",
              "a:link.sk-estimator-doc-link,\n",
              "a:visited.sk-estimator-doc-link {\n",
              "  float: right;\n",
              "  font-size: smaller;\n",
              "  line-height: 1em;\n",
              "  font-family: monospace;\n",
              "  background-color: var(--sklearn-color-background);\n",
              "  border-radius: 1em;\n",
              "  height: 1em;\n",
              "  width: 1em;\n",
              "  text-decoration: none !important;\n",
              "  margin-left: 0.5em;\n",
              "  text-align: center;\n",
              "  /* unfitted */\n",
              "  border: var(--sklearn-color-unfitted-level-1) 1pt solid;\n",
              "  color: var(--sklearn-color-unfitted-level-1);\n",
              "}\n",
              "\n",
              ".sk-estimator-doc-link.fitted,\n",
              "a:link.sk-estimator-doc-link.fitted,\n",
              "a:visited.sk-estimator-doc-link.fitted {\n",
              "  /* fitted */\n",
              "  border: var(--sklearn-color-fitted-level-1) 1pt solid;\n",
              "  color: var(--sklearn-color-fitted-level-1);\n",
              "}\n",
              "\n",
              "/* On hover */\n",
              "div.sk-estimator:hover .sk-estimator-doc-link:hover,\n",
              ".sk-estimator-doc-link:hover,\n",
              "div.sk-label-container:hover .sk-estimator-doc-link:hover,\n",
              ".sk-estimator-doc-link:hover {\n",
              "  /* unfitted */\n",
              "  background-color: var(--sklearn-color-unfitted-level-3);\n",
              "  color: var(--sklearn-color-background);\n",
              "  text-decoration: none;\n",
              "}\n",
              "\n",
              "div.sk-estimator.fitted:hover .sk-estimator-doc-link.fitted:hover,\n",
              ".sk-estimator-doc-link.fitted:hover,\n",
              "div.sk-label-container:hover .sk-estimator-doc-link.fitted:hover,\n",
              ".sk-estimator-doc-link.fitted:hover {\n",
              "  /* fitted */\n",
              "  background-color: var(--sklearn-color-fitted-level-3);\n",
              "  color: var(--sklearn-color-background);\n",
              "  text-decoration: none;\n",
              "}\n",
              "\n",
              "/* Span, style for the box shown on hovering the info icon */\n",
              ".sk-estimator-doc-link span {\n",
              "  display: none;\n",
              "  z-index: 9999;\n",
              "  position: relative;\n",
              "  font-weight: normal;\n",
              "  right: .2ex;\n",
              "  padding: .5ex;\n",
              "  margin: .5ex;\n",
              "  width: min-content;\n",
              "  min-width: 20ex;\n",
              "  max-width: 50ex;\n",
              "  color: var(--sklearn-color-text);\n",
              "  box-shadow: 2pt 2pt 4pt #999;\n",
              "  /* unfitted */\n",
              "  background: var(--sklearn-color-unfitted-level-0);\n",
              "  border: .5pt solid var(--sklearn-color-unfitted-level-3);\n",
              "}\n",
              "\n",
              ".sk-estimator-doc-link.fitted span {\n",
              "  /* fitted */\n",
              "  background: var(--sklearn-color-fitted-level-0);\n",
              "  border: var(--sklearn-color-fitted-level-3);\n",
              "}\n",
              "\n",
              ".sk-estimator-doc-link:hover span {\n",
              "  display: block;\n",
              "}\n",
              "\n",
              "/* \"?\"-specific style due to the `<a>` HTML tag */\n",
              "\n",
              "#sk-container-id-3 a.estimator_doc_link {\n",
              "  float: right;\n",
              "  font-size: 1rem;\n",
              "  line-height: 1em;\n",
              "  font-family: monospace;\n",
              "  background-color: var(--sklearn-color-background);\n",
              "  border-radius: 1rem;\n",
              "  height: 1rem;\n",
              "  width: 1rem;\n",
              "  text-decoration: none;\n",
              "  /* unfitted */\n",
              "  color: var(--sklearn-color-unfitted-level-1);\n",
              "  border: var(--sklearn-color-unfitted-level-1) 1pt solid;\n",
              "}\n",
              "\n",
              "#sk-container-id-3 a.estimator_doc_link.fitted {\n",
              "  /* fitted */\n",
              "  border: var(--sklearn-color-fitted-level-1) 1pt solid;\n",
              "  color: var(--sklearn-color-fitted-level-1);\n",
              "}\n",
              "\n",
              "/* On hover */\n",
              "#sk-container-id-3 a.estimator_doc_link:hover {\n",
              "  /* unfitted */\n",
              "  background-color: var(--sklearn-color-unfitted-level-3);\n",
              "  color: var(--sklearn-color-background);\n",
              "  text-decoration: none;\n",
              "}\n",
              "\n",
              "#sk-container-id-3 a.estimator_doc_link.fitted:hover {\n",
              "  /* fitted */\n",
              "  background-color: var(--sklearn-color-fitted-level-3);\n",
              "}\n",
              "</style><div id=\"sk-container-id-3\" class=\"sk-top-container\"><div class=\"sk-text-repr-fallback\"><pre>RandomForestClassifier(class_weight=&#x27;balanced&#x27;, max_depth=10,\n",
              "                       min_samples_leaf=2, min_samples_split=5,\n",
              "                       random_state=42)</pre><b>In a Jupyter environment, please rerun this cell to show the HTML representation or trust the notebook. <br />On GitHub, the HTML representation is unable to render, please try loading this page with nbviewer.org.</b></div><div class=\"sk-container\" hidden><div class=\"sk-item\"><div class=\"sk-estimator fitted sk-toggleable\"><input class=\"sk-toggleable__control sk-hidden--visually\" id=\"sk-estimator-id-3\" type=\"checkbox\" checked><label for=\"sk-estimator-id-3\" class=\"sk-toggleable__label fitted sk-toggleable__label-arrow\"><div><div>RandomForestClassifier</div></div><div><a class=\"sk-estimator-doc-link fitted\" rel=\"noreferrer\" target=\"_blank\" href=\"https://scikit-learn.org/1.6/modules/generated/sklearn.ensemble.RandomForestClassifier.html\">?<span>Documentation for RandomForestClassifier</span></a><span class=\"sk-estimator-doc-link fitted\">i<span>Fitted</span></span></div></label><div class=\"sk-toggleable__content fitted\"><pre>RandomForestClassifier(class_weight=&#x27;balanced&#x27;, max_depth=10,\n",
              "                       min_samples_leaf=2, min_samples_split=5,\n",
              "                       random_state=42)</pre></div> </div></div></div></div>"
            ]
          },
          "metadata": {},
          "execution_count": 97
        }
      ]
    },
    {
      "cell_type": "code",
      "source": [
        "from sklearn.metrics import accuracy_score, roc_auc_score\n",
        "\n",
        "# Evaluate on validation set\n",
        "y_pred = rf_model.predict(X_val_scaled)\n",
        "y_proba = rf_model.predict_proba(X_val_scaled)[:, 1]\n",
        "\n",
        "print(\"\\nValidation Performance:\")\n",
        "print(\"Accuracy:\", accuracy_score(y_val, y_pred))\n",
        "print(\"ROC AUC:\", roc_auc_score(y_val, y_proba))\n",
        "print(\"\\nClassification Report:\")\n",
        "print(classification_report(y_val, y_pred))\n",
        "print(\"\\nConfusion Matrix:\")\n",
        "print(confusion_matrix(y_val, y_pred))"
      ],
      "metadata": {
        "colab": {
          "base_uri": "https://localhost:8080/"
        },
        "id": "KTTDWITkXTsZ",
        "outputId": "97bec231-d469-4c8c-a1c1-44d3d4decaf0"
      },
      "execution_count": 98,
      "outputs": [
        {
          "output_type": "stream",
          "name": "stdout",
          "text": [
            "\n",
            "Validation Performance:\n",
            "Accuracy: 0.9884798397195091\n",
            "ROC AUC: 0.9586854157259884\n",
            "\n",
            "Classification Report:\n",
            "              precision    recall  f1-score   support\n",
            "\n",
            "           0       0.99      0.99      0.99      3771\n",
            "           1       0.90      0.89      0.90       222\n",
            "\n",
            "    accuracy                           0.99      3993\n",
            "   macro avg       0.95      0.94      0.94      3993\n",
            "weighted avg       0.99      0.99      0.99      3993\n",
            "\n",
            "\n",
            "Confusion Matrix:\n",
            "[[3749   22]\n",
            " [  24  198]]\n"
          ]
        }
      ]
    },
    {
      "cell_type": "markdown",
      "source": [
        "**Conclusion of Validation Performance:**\n",
        "The Random Forest model shows strong performance on the validation set, not just in overall accuracy, also on the minority \"Failure\" class.\n",
        "\n",
        "\n",
        "\n",
        "*   An ROC AUC of 0.9587 is excellent.\n",
        "*   The recall of 0.89 for the 'Failure' class is very good, meaning it's catching most of the actual failures (only missing 11%).\n",
        "*   The precision of 0.90 for the 'Failure' class is also strong, meaning when it predicts a failure, it's correct 90% of the time.\n",
        "\n",
        "\n",
        "\n",
        "\n"
      ],
      "metadata": {
        "id": "MumvpGDdjrOt"
      }
    },
    {
      "cell_type": "code",
      "source": [
        "# Feature Importance\n",
        "feature_importance = pd.DataFrame({\n",
        "    'Feature': X.columns,\n",
        "    'Importance': rf_model.feature_importances_\n",
        "}).sort_values('Importance', ascending=False)\n",
        "\n",
        "plt.figure(figsize=(12, 8))\n",
        "sns.barplot(x='Importance', y='Feature', data=feature_importance.head(20))\n",
        "plt.title('Top 20 Important Features')\n",
        "plt.tight_layout()\n",
        "plt.show()\n",
        "\n",
        "# Save the model and scaler for later use on test data\n",
        "import joblib\n",
        "joblib.dump(rf_model, 'generator_failure_rf_model.pkl')\n",
        "joblib.dump(scaler, 'scaler.pkl')"
      ],
      "metadata": {
        "colab": {
          "base_uri": "https://localhost:8080/",
          "height": 824
        },
        "id": "w0DORGyNXaAA",
        "outputId": "d6dd5d7f-4477-4fcf-96a1-0b525e5de25a"
      },
      "execution_count": 99,
      "outputs": [
        {
          "output_type": "display_data",
          "data": {
            "text/plain": [
              "<Figure size 1200x800 with 1 Axes>"
            ],
            "image/png": "[encoded data removed]"
          },
          "metadata": {}
        },
        {
          "output_type": "execute_result",
          "data": {
            "text/plain": [
              "['scaler.pkl']"
            ]
          },
          "metadata": {},
          "execution_count": 99
        }
      ]
    },
    {
      "cell_type": "markdown",
      "source": [
        "Model Building\n",
        "Model Evaluation Criterion\n",
        "Our primary goal is to minimize cost. We will define a function to calculate this based on the problem statement:\n",
        "Cost(FP) = 10 (Inspection)\n",
        "Cost(TP) = 100 (Repair)\n",
        "Cost(FN) = 500 (Replacement)"
      ],
      "metadata": {
        "id": "rKwIw_knplCs"
      }
    },
    {
      "cell_type": "code",
      "source": [
        "def calculate_total_cost(y_true, y_pred):\n",
        "    \"\"\"Calculates the business-specific total maintenance cost.\"\"\"\n",
        "    tn, fp, fn, tp = confusion_matrix(y_true, y_pred).ravel()\n",
        "    cost = (fp * 10) + (tp * 100) + (fn * 500)\n",
        "    return cost\n",
        "\n",
        "# Create a scorer object that can be used in scikit-learn's tuning functions\n",
        "# We set greater_is_better to False because we want to MINIMIZE the cost\n",
        "cost_scorer = make_scorer(calculate_total_cost, greater_is_better=False)\n"
      ],
      "metadata": {
        "id": "DzrKu6VZpmld"
      },
      "execution_count": 100,
      "outputs": []
    },
    {
      "cell_type": "markdown",
      "source": [
        " By creating cost_scorer with greater_is_better=False, any subsequent hyperparameter tuning or model selection process that uses this scorer will actively try to find the model configuration that minimizes the total maintenance cost, which is the primary business goal."
      ],
      "metadata": {
        "id": "x3FYgZ5porTk"
      }
    },
    {
      "cell_type": "markdown",
      "source": [
        "Initial Model Building (Model 0)\n",
        "Simple ANN as baseline model."
      ],
      "metadata": {
        "id": "-DETZoQ3pwB7"
      }
    },
    {
      "cell_type": "code",
      "source": [
        "# --- Model 0: Simple Artificial Neural Network (ANN) ---\n",
        "def build_simple_ann(input_dim):\n",
        "    model = Sequential([\n",
        "        Dense(32, input_dim=input_dim, activation='relu'),\n",
        "        Dense(1, activation='sigmoid') # Output layer for binary classification\n",
        "    ])\n",
        "    model.compile(optimizer='adam', loss='binary_crossentropy', metrics=['accuracy'])\n",
        "    return model\n",
        "\n",
        "# To help with imbalance, set the initial bias of the output layer\n",
        "neg, pos = np.bincount(y_train)\n",
        "initial_bias = np.log([pos / neg])\n",
        "output_bias = keras.initializers.Constant(initial_bias)\n",
        "\n",
        "# Build, train, and evaluate the simple ANN\n",
        "ann_model_0 = build_simple_ann(X_train_scaled.shape[1])\n",
        "ann_model_0.layers[-1].bias.assign(initial_bias) # Assign the NumPy array directly\n",
        "ann_model_0.fit(X_train_scaled, y_train, epochs=10, batch_size=32, verbose=0)\n",
        "y_pred_ann_0 = (ann_model_0.predict(X_val_scaled) > 0.5).astype(\"int32\")\n",
        "\n",
        "# Store performance results\n",
        "model_performance = {}\n",
        "model_performance['Simple ANN (Model 0)'] = {\n",
        "    'Cost': calculate_total_cost(y_val, y_pred_ann_0),\n",
        "    'F1 Score': f1_score(y_val, y_pred_ann_0)\n",
        "}\n",
        "print(f\"Simple ANN (Model 0) - Validation Cost: ${model_performance['Simple ANN (Model 0)']['Cost']:,}\")"
      ],
      "metadata": {
        "colab": {
          "base_uri": "https://localhost:8080/"
        },
        "id": "LlOI6neIpuxZ",
        "outputId": "67fc65eb-633d-4d29-8b59-c9613012e994"
      },
      "execution_count": 101,
      "outputs": [
        {
          "output_type": "stream",
          "name": "stdout",
          "text": [
            "\u001b[1m125/125\u001b[0m \u001b[32m━━━━━━━━━━━━━━━━━━━━\u001b[0m\u001b[37m\u001b[0m \u001b[1m0s\u001b[0m 1ms/step  \n",
            "Simple ANN (Model 0) - Validation Cost: $34,630\n"
          ]
        }
      ]
    },
    {
      "cell_type": "markdown",
      "source": [
        "Baseline Established: This ANN serves as the initial performance benchmark. Any subsequent, more complex models should aim to significantly reduce this cost of $39,830.\n",
        "\n"
      ],
      "metadata": {
        "id": "OUb4MnLbqx68"
      }
    },
    {
      "cell_type": "markdown",
      "source": [
        "Model Performance Improvement\n",
        "Now I'll build and compare five additional models, applying techniques to handle class imbalance and improve performance through hyperparameter tuning."
      ],
      "metadata": {
        "id": "R1MGAEY8qNcZ"
      }
    },
    {
      "cell_type": "code",
      "source": [
        "# Calculate class weight for imbalanced data. Used by scikit-learn and XGBoost.\n",
        "scale_pos_weight_value = np.sum(y_train == 0) / np.sum(y_train == 1)\n",
        "\n",
        "# --- Model 1: Logistic Regression ---\n",
        "lr_model = LogisticRegression(random_state=42, class_weight='balanced', max_iter=1000)\n",
        "lr_model.fit(X_train_scaled, y_train)\n",
        "y_pred_lr = lr_model.predict(X_val_scaled)\n",
        "model_performance['Logistic Regression (Model 1)'] = {'Cost': calculate_total_cost(y_val, y_pred_lr), 'F1 Score': f1_score(y_val, y_pred_lr)}\n",
        "print(f\"Logistic Regression (Model 1) - Validation Cost: ${model_performance['Logistic Regression (Model 1)']['Cost']:,}\")\n",
        "\n",
        "# --- Model 2: Random Forest (Re-evaluating the prevous RF model) ---\n",
        "rf_model = RandomForestClassifier(random_state=42, class_weight='balanced', n_jobs=-1)\n",
        "rf_model.fit(X_train_scaled, y_train)\n",
        "y_pred_rf = rf_model.predict(X_val_scaled)\n",
        "model_performance['Random Forest (Model 2)'] = {'Cost': calculate_total_cost(y_val, y_pred_rf), 'F1 Score': f1_score(y_val, y_pred_rf)}\n",
        "print(f\"Random Forest (Model 2) - Validation Cost: ${model_performance['Random Forest (Model 2)']['Cost']:,}\")\n",
        "\n",
        "# --- Model 3: XGBoost ---\n",
        "xgb_model = xgb.XGBClassifier(random_state=42, use_label_encoder=False, eval_metric='logloss', scale_pos_weight=scale_pos_weight_value)\n",
        "xgb_model.fit(X_train_scaled, y_train)\n",
        "y_pred_xgb = xgb_model.predict(X_val_scaled)\n",
        "model_performance['XGBoost (Model 3)'] = {'Cost': calculate_total_cost(y_val, y_pred_xgb), 'F1 Score': f1_score(y_val, y_pred_xgb)}\n",
        "print(f\"XGBoost (Model 3) - Validation Cost: ${model_performance['XGBoost (Model 3)']['Cost']:,}\")\n",
        "\n",
        "# --- Model 4: Tuned Random Forest (Hyperparameter Tuning) ---\n",
        "param_grid_rf = {'n_estimators': [150, 250], 'max_depth': [15, 25], 'min_samples_leaf': [1, 3]}\n",
        "rs_rf = RandomizedSearchCV(RandomForestClassifier(random_state=42, class_weight='balanced'), param_grid_rf, n_iter=4, cv=3, scoring=cost_scorer, n_jobs=-1, random_state=42)\n",
        "rs_rf.fit(X_train_scaled, y_train)\n",
        "y_pred_rf_tuned = rs_rf.best_estimator_.predict(X_val_scaled)\n",
        "model_performance['Tuned Random Forest (Model 4)'] = {'Cost': calculate_total_cost(y_val, y_pred_rf_tuned), 'F1 Score': f1_score(y_val, y_pred_rf_tuned)}\n",
        "print(f\"Tuned Random Forest (Model 4) - Validation Cost: ${model_performance['Tuned Random Forest (Model 4)']['Cost']:,}\")\n",
        "\n",
        "# --- Model 5: Tuned XGBoost (Hyperparameter Tuning) ---\n",
        "param_grid_xgb = {'max_depth': [5, 7], 'learning_rate': [0.05, 0.1], 'n_estimators': [200, 300]}\n",
        "rs_xgb = RandomizedSearchCV(xgb.XGBClassifier(random_state=42, use_label_encoder=False, eval_metric='logloss', scale_pos_weight=scale_pos_weight_value), param_grid_xgb, n_iter=4, cv=3, scoring=cost_scorer, n_jobs=-1, random_state=42)\n",
        "rs_xgb.fit(X_train_scaled, y_train)\n",
        "y_pred_xgb_tuned = rs_xgb.best_estimator_.predict(X_val_scaled)\n",
        "model_performance['Tuned XGBoost (Model 5)'] = {'Cost': calculate_total_cost(y_val, y_pred_xgb_tuned), 'F1 Score': f1_score(y_val, y_pred_xgb_tuned)}\n",
        "print(f\"Tuned XGBoost (Model 5) - Validation Cost: ${model_performance['Tuned XGBoost (Model 5)']['Cost']:,}\")\n",
        "\n",
        "# --- Model 6: ANN with Dropout Regularization ---\n",
        "def build_regularized_ann(input_dim):\n",
        "    model = Sequential([\n",
        "        Dense(64, input_dim=input_dim, activation='relu'),\n",
        "        Dropout(0.3),  # Dropout layer to prevent overfitting\n",
        "        Dense(32, activation='relu'),\n",
        "        Dropout(0.2),\n",
        "        Dense(1, activation='sigmoid', bias_initializer=output_bias) # Reuse the calculated bias\n",
        "    ])\n",
        "    model.compile(optimizer=keras.optimizers.Adam(learning_rate=0.001), loss='binary_crossentropy', metrics=['accuracy'])\n",
        "    return model\n",
        "\n",
        "ann_model_6 = build_regularized_ann(X_train_scaled.shape[1])\n",
        "ann_model_6.fit(X_train_scaled, y_train, epochs=20, batch_size=32, verbose=0, class_weight={0: 1, 1: scale_pos_weight_value})\n",
        "y_pred_ann_6 = (ann_model_6.predict(X_val_scaled) > 0.5).astype(\"int32\")\n",
        "model_performance['Regularized ANN (Model 6)'] = {'Cost': calculate_total_cost(y_val, y_pred_ann_6), 'F1 Score': f1_score(y_val, y_pred_ann_6)}\n",
        "print(f\"Regularized ANN (Model 6) - Validation Cost: ${model_performance['Regularized ANN (Model 6)']['Cost']:,}\")"
      ],
      "metadata": {
        "colab": {
          "base_uri": "https://localhost:8080/"
        },
        "id": "OSiWfPvaqSIT",
        "outputId": "5246f4b6-027d-4ca5-dd8c-f759c567ec7b"
      },
      "execution_count": 102,
      "outputs": [
        {
          "output_type": "stream",
          "name": "stdout",
          "text": [
            "Logistic Regression (Model 1) - Validation Cost: $36,930\n",
            "Random Forest (Model 2) - Validation Cost: $51,430\n",
            "XGBoost (Model 3) - Validation Cost: $33,040\n",
            "Tuned Random Forest (Model 4) - Validation Cost: $43,840\n",
            "Tuned XGBoost (Model 5) - Validation Cost: $32,500\n",
            "\u001b[1m125/125\u001b[0m \u001b[32m━━━━━━━━━━━━━━━━━━━━\u001b[0m\u001b[37m\u001b[0m \u001b[1m0s\u001b[0m 1ms/step\n",
            "Regularized ANN (Model 6) - Validation Cost: $29,190\n"
          ]
        }
      ]
    },
    {
      "cell_type": "markdown",
      "source": [
        "**Conclusion and Key Insights:**\n",
        "\n",
        "\n",
        "*   The Regularized Artificial Neural Network (Model 6) emerges as the best-performing model, achieving the lowest total validation cost of $29,800. This indicates that its architecture, combined with regularization techniques (like Dropout and L2) and initial bias adjustments for class imbalance, was most effective in optimizing for the specific business cost.\n",
        "\n",
        "\n",
        "*   Following closely, the XGBoost Classifier (both tuned and untuned versions) demonstrated strong performance, securing the second and third best positions respectively. Logistic Regression offered a respectable mid-tier performance.\n",
        "\n",
        "\n",
        "*   Both Random Forest models (tuned and untuned) performed significantly worse in this evaluation round, yielding the highest costs among all tested models.\n",
        "\n",
        "*   This analysis underscores the critical importance of evaluating machine learning models using business-specific metrics. Relying solely on standard metrics like accuracy might lead to a different, less financially optimal, model selection. The current results strongly suggest that the Regularized ANN is the most promising candidate for deployment to minimize maintenance costs.\n",
        "\n",
        "\n",
        "\n",
        "\n",
        "\n"
      ],
      "metadata": {
        "id": "3PEfR_LC115o"
      }
    },
    {
      "cell_type": "markdown",
      "source": [
        "Model Performance Comparison and Final Model Selection\n",
        "We will now compare the performance of all six models based on our primary criterion: minimizing total cost."
      ],
      "metadata": {
        "id": "WS0yTcE_rTv3"
      }
    },
    {
      "cell_type": "code",
      "source": [
        "# Create a DataFrame from the performance dictionary and sort by cost\n",
        "perf_df = pd.DataFrame.from_dict(model_performance, orient='index').sort_values(by='Cost')\n",
        "\n",
        "print(\"--- Final Model Performance Comparison on Validation Set ---\")\n",
        "display(perf_df)"
      ],
      "metadata": {
        "colab": {
          "base_uri": "https://localhost:8080/",
          "height": 286
        },
        "id": "BRyIe4JvrVLb",
        "outputId": "aa1e615e-e28f-4eba-c3bd-62cfad2d209e"
      },
      "execution_count": 103,
      "outputs": [
        {
          "output_type": "stream",
          "name": "stdout",
          "text": [
            "--- Final Model Performance Comparison on Validation Set ---\n"
          ]
        },
        {
          "output_type": "display_data",
          "data": {
            "text/plain": [
              "                                Cost  F1 Score\n",
              "Regularized ANN (Model 6)      29190  0.919283\n",
              "Tuned XGBoost (Model 5)        32500  0.877506\n",
              "XGBoost (Model 3)              33040  0.926366\n",
              "Simple ANN (Model 0)           34630  0.918269\n",
              "Logistic Regression (Model 1)  36930  0.424437\n",
              "Tuned Random Forest (Model 4)  43840  0.852792\n",
              "Random Forest (Model 2)        51430  0.796791"
            ],
            "text/html": [
              "\n",
              "  <div id=\"df-5bddf7f3-ac19-4470-8956-80979fccd706\" class=\"colab-df-container\">\n",
              "    <div>\n",
              "<style scoped>\n",
              "    .dataframe tbody tr th:only-of-type {\n",
              "        vertical-align: middle;\n",
              "    }\n",
              "\n",
              "    .dataframe tbody tr th {\n",
              "        vertical-align: top;\n",
              "    }\n",
              "\n",
              "    .dataframe thead th {\n",
              "        text-align: right;\n",
              "    }\n",
              "</style>\n",
              "<table border=\"1\" class=\"dataframe\">\n",
              "  <thead>\n",
              "    <tr style=\"text-align: right;\">\n",
              "      <th></th>\n",
              "      <th>Cost</th>\n",
              "      <th>F1 Score</th>\n",
              "    </tr>\n",
              "  </thead>\n",
              "  <tbody>\n",
              "    <tr>\n",
              "      <th>Regularized ANN (Model 6)</th>\n",
              "      <td>29190</td>\n",
              "      <td>0.919283</td>\n",
              "    </tr>\n",
              "    <tr>\n",
              "      <th>Tuned XGBoost (Model 5)</th>\n",
              "      <td>32500</td>\n",
              "      <td>0.877506</td>\n",
              "    </tr>\n",
              "    <tr>\n",
              "      <th>XGBoost (Model 3)</th>\n",
              "      <td>33040</td>\n",
              "      <td>0.926366</td>\n",
              "    </tr>\n",
              "    <tr>\n",
              "      <th>Simple ANN (Model 0)</th>\n",
              "      <td>34630</td>\n",
              "      <td>0.918269</td>\n",
              "    </tr>\n",
              "    <tr>\n",
              "      <th>Logistic Regression (Model 1)</th>\n",
              "      <td>36930</td>\n",
              "      <td>0.424437</td>\n",
              "    </tr>\n",
              "    <tr>\n",
              "      <th>Tuned Random Forest (Model 4)</th>\n",
              "      <td>43840</td>\n",
              "      <td>0.852792</td>\n",
              "    </tr>\n",
              "    <tr>\n",
              "      <th>Random Forest (Model 2)</th>\n",
              "      <td>51430</td>\n",
              "      <td>0.796791</td>\n",
              "    </tr>\n",
              "  </tbody>\n",
              "</table>\n",
              "</div>\n",
              "    <div class=\"colab-df-buttons\">\n",
              "\n",
              "  <div class=\"colab-df-container\">\n",
              "    <button class=\"colab-df-convert\" onclick=\"convertToInteractive('df-5bddf7f3-ac19-4470-8956-80979fccd706')\"\n",
              "            title=\"Convert this dataframe to an interactive table.\"\n",
              "            style=\"display:none;\">\n",
              "\n",
              "  <svg xmlns=\"http://www.w3.org/2000/svg\" height=\"24px\" viewBox=\"0 -960 960 960\">\n",
              "    <path d=\"M120-120v-720h720v720H120Zm60-500h600v-160H180v160Zm220 220h160v-160H400v160Zm0 220h160v-160H400v160ZM180-400h160v-160H180v160Zm440 0h160v-160H620v160ZM180-180h160v-160H180v160Zm440 0h160v-160H620v160Z\"/>\n",
              "  </svg>\n",
              "    </button>\n",
              "\n",
              "  <style>\n",
              "    .colab-df-container {\n",
              "      display:flex;\n",
              "      gap: 12px;\n",
              "    }\n",
              "\n",
              "    .colab-df-convert {\n",
              "      background-color: #E8F0FE;\n",
              "      border: none;\n",
              "      border-radius: 50%;\n",
              "      cursor: pointer;\n",
              "      display: none;\n",
              "      fill: #1967D2;\n",
              "      height: 32px;\n",
              "      padding: 0 0 0 0;\n",
              "      width: 32px;\n",
              "    }\n",
              "\n",
              "    .colab-df-convert:hover {\n",
              "      background-color: #E2EBFA;\n",
              "      box-shadow: 0px 1px 2px rgba(60, 64, 67, 0.3), 0px 1px 3px 1px rgba(60, 64, 67, 0.15);\n",
              "      fill: #174EA6;\n",
              "    }\n",
              "\n",
              "    .colab-df-buttons div {\n",
              "      margin-bottom: 4px;\n",
              "    }\n",
              "\n",
              "    [theme=dark] .colab-df-convert {\n",
              "      background-color: #3B4455;\n",
              "      fill: #D2E3FC;\n",
              "    }\n",
              "\n",
              "    [theme=dark] .colab-df-convert:hover {\n",
              "      background-color: #434B5C;\n",
              "      box-shadow: 0px 1px 3px 1px rgba(0, 0, 0, 0.15);\n",
              "      filter: drop-shadow(0px 1px 2px rgba(0, 0, 0, 0.3));\n",
              "      fill: #FFFFFF;\n",
              "    }\n",
              "  </style>\n",
              "\n",
              "    <script>\n",
              "      const buttonEl =\n",
              "        document.querySelector('#df-5bddf7f3-ac19-4470-8956-80979fccd706 button.colab-df-convert');\n",
              "      buttonEl.style.display =\n",
              "        google.colab.kernel.accessAllowed ? 'block' : 'none';\n",
              "\n",
              "      async function convertToInteractive(key) {\n",
              "        const element = document.querySelector('#df-5bddf7f3-ac19-4470-8956-80979fccd706');\n",
              "        const dataTable =\n",
              "          await google.colab.kernel.invokeFunction('convertToInteractive',\n",
              "                                                    [key], {});\n",
              "        if (!dataTable) return;\n",
              "\n",
              "        const docLinkHtml = 'Like what you see? Visit the ' +\n",
              "          '<a target=\"_blank\" href=https://colab.research.google.com/notebooks/data_table.ipynb>data table notebook</a>'\n",
              "          + ' to learn more about interactive tables.';\n",
              "        element.innerHTML = '';\n",
              "        dataTable['output_type'] = 'display_data';\n",
              "        await google.colab.output.renderOutput(dataTable, element);\n",
              "        const docLink = document.createElement('div');\n",
              "        docLink.innerHTML = docLinkHtml;\n",
              "        element.appendChild(docLink);\n",
              "      }\n",
              "    </script>\n",
              "  </div>\n",
              "\n",
              "\n",
              "    <div id=\"df-2b157304-047f-409b-abb1-94b68031a2f7\">\n",
              "      <button class=\"colab-df-quickchart\" onclick=\"quickchart('df-2b157304-047f-409b-abb1-94b68031a2f7')\"\n",
              "                title=\"Suggest charts\"\n",
              "                style=\"display:none;\">\n",
              "\n",
              "<svg xmlns=\"http://www.w3.org/2000/svg\" height=\"24px\"viewBox=\"0 0 24 24\"\n",
              "     width=\"24px\">\n",
              "    <g>\n",
              "        <path d=\"M19 3H5c-1.1 0-2 .9-2 2v14c0 1.1.9 2 2 2h14c1.1 0 2-.9 2-2V5c0-1.1-.9-2-2-2zM9 17H7v-7h2v7zm4 0h-2V7h2v10zm4 0h-2v-4h2v4z\"/>\n",
              "    </g>\n",
              "</svg>\n",
              "      </button>\n",
              "\n",
              "<style>\n",
              "  .colab-df-quickchart {\n",
              "      --bg-color: #E8F0FE;\n",
              "      --fill-color: #1967D2;\n",
              "      --hover-bg-color: #E2EBFA;\n",
              "      --hover-fill-color: #174EA6;\n",
              "      --disabled-fill-color: #AAA;\n",
              "      --disabled-bg-color: #DDD;\n",
              "  }\n",
              "\n",
              "  [theme=dark] .colab-df-quickchart {\n",
              "      --bg-color: #3B4455;\n",
              "      --fill-color: #D2E3FC;\n",
              "      --hover-bg-color: #434B5C;\n",
              "      --hover-fill-color: #FFFFFF;\n",
              "      --disabled-bg-color: #3B4455;\n",
              "      --disabled-fill-color: #666;\n",
              "  }\n",
              "\n",
              "  .colab-df-quickchart {\n",
              "    background-color: var(--bg-color);\n",
              "    border: none;\n",
              "    border-radius: 50%;\n",
              "    cursor: pointer;\n",
              "    display: none;\n",
              "    fill: var(--fill-color);\n",
              "    height: 32px;\n",
              "    padding: 0;\n",
              "    width: 32px;\n",
              "  }\n",
              "\n",
              "  .colab-df-quickchart:hover {\n",
              "    background-color: var(--hover-bg-color);\n",
              "    box-shadow: 0 1px 2px rgba(60, 64, 67, 0.3), 0 1px 3px 1px rgba(60, 64, 67, 0.15);\n",
              "    fill: var(--button-hover-fill-color);\n",
              "  }\n",
              "\n",
              "  .colab-df-quickchart-complete:disabled,\n",
              "  .colab-df-quickchart-complete:disabled:hover {\n",
              "    background-color: var(--disabled-bg-color);\n",
              "    fill: var(--disabled-fill-color);\n",
              "    box-shadow: none;\n",
              "  }\n",
              "\n",
              "  .colab-df-spinner {\n",
              "    border: 2px solid var(--fill-color);\n",
              "    border-color: transparent;\n",
              "    border-bottom-color: var(--fill-color);\n",
              "    animation:\n",
              "      spin 1s steps(1) infinite;\n",
              "  }\n",
              "\n",
              "  @keyframes spin {\n",
              "    0% {\n",
              "      border-color: transparent;\n",
              "      border-bottom-color: var(--fill-color);\n",
              "      border-left-color: var(--fill-color);\n",
              "    }\n",
              "    20% {\n",
              "      border-color: transparent;\n",
              "      border-left-color: var(--fill-color);\n",
              "      border-top-color: var(--fill-color);\n",
              "    }\n",
              "    30% {\n",
              "      border-color: transparent;\n",
              "      border-left-color: var(--fill-color);\n",
              "      border-top-color: var(--fill-color);\n",
              "      border-right-color: var(--fill-color);\n",
              "    }\n",
              "    40% {\n",
              "      border-color: transparent;\n",
              "      border-right-color: var(--fill-color);\n",
              "      border-top-color: var(--fill-color);\n",
              "    }\n",
              "    60% {\n",
              "      border-color: transparent;\n",
              "      border-right-color: var(--fill-color);\n",
              "    }\n",
              "    80% {\n",
              "      border-color: transparent;\n",
              "      border-right-color: var(--fill-color);\n",
              "      border-bottom-color: var(--fill-color);\n",
              "    }\n",
              "    90% {\n",
              "      border-color: transparent;\n",
              "      border-bottom-color: var(--fill-color);\n",
              "    }\n",
              "  }\n",
              "</style>\n",
              "\n",
              "      <script>\n",
              "        async function quickchart(key) {\n",
              "          const quickchartButtonEl =\n",
              "            document.querySelector('#' + key + ' button');\n",
              "          quickchartButtonEl.disabled = true;  // To prevent multiple clicks.\n",
              "          quickchartButtonEl.classList.add('colab-df-spinner');\n",
              "          try {\n",
              "            const charts = await google.colab.kernel.invokeFunction(\n",
              "                'suggestCharts', [key], {});\n",
              "          } catch (error) {\n",
              "            console.error('Error during call to suggestCharts:', error);\n",
              "          }\n",
              "          quickchartButtonEl.classList.remove('colab-df-spinner');\n",
              "          quickchartButtonEl.classList.add('colab-df-quickchart-complete');\n",
              "        }\n",
              "        (() => {\n",
              "          let quickchartButtonEl =\n",
              "            document.querySelector('#df-2b157304-047f-409b-abb1-94b68031a2f7 button');\n",
              "          quickchartButtonEl.style.display =\n",
              "            google.colab.kernel.accessAllowed ? 'block' : 'none';\n",
              "        })();\n",
              "      </script>\n",
              "    </div>\n",
              "\n",
              "  <div id=\"id_777c6fe5-255c-4dd6-81f4-5f29f9ea8bc9\">\n",
              "    <style>\n",
              "      .colab-df-generate {\n",
              "        background-color: #E8F0FE;\n",
              "        border: none;\n",
              "        border-radius: 50%;\n",
              "        cursor: pointer;\n",
              "        display: none;\n",
              "        fill: #1967D2;\n",
              "        height: 32px;\n",
              "        padding: 0 0 0 0;\n",
              "        width: 32px;\n",
              "      }\n",
              "\n",
              "      .colab-df-generate:hover {\n",
              "        background-color: #E2EBFA;\n",
              "        box-shadow: 0px 1px 2px rgba(60, 64, 67, 0.3), 0px 1px 3px 1px rgba(60, 64, 67, 0.15);\n",
              "        fill: #174EA6;\n",
              "      }\n",
              "\n",
              "      [theme=dark] .colab-df-generate {\n",
              "        background-color: #3B4455;\n",
              "        fill: #D2E3FC;\n",
              "      }\n",
              "\n",
              "      [theme=dark] .colab-df-generate:hover {\n",
              "        background-color: #434B5C;\n",
              "        box-shadow: 0px 1px 3px 1px rgba(0, 0, 0, 0.15);\n",
              "        filter: drop-shadow(0px 1px 2px rgba(0, 0, 0, 0.3));\n",
              "        fill: #FFFFFF;\n",
              "      }\n",
              "    </style>\n",
              "    <button class=\"colab-df-generate\" onclick=\"generateWithVariable('perf_df')\"\n",
              "            title=\"Generate code using this dataframe.\"\n",
              "            style=\"display:none;\">\n",
              "\n",
              "  <svg xmlns=\"http://www.w3.org/2000/svg\" height=\"24px\"viewBox=\"0 0 24 24\"\n",
              "       width=\"24px\">\n",
              "    <path d=\"M7,19H8.4L18.45,9,17,7.55,7,17.6ZM5,21V16.75L18.45,3.32a2,2,0,0,1,2.83,0l1.4,1.43a1.91,1.91,0,0,1,.58,1.4,1.91,1.91,0,0,1-.58,1.4L9.25,21ZM18.45,9,17,7.55Zm-12,3A5.31,5.31,0,0,0,4.9,8.1,5.31,5.31,0,0,0,1,6.5,5.31,5.31,0,0,0,4.9,4.9,5.31,5.31,0,0,0,6.5,1,5.31,5.31,0,0,0,8.1,4.9,5.31,5.31,0,0,0,12,6.5,5.46,5.46,0,0,0,6.5,12Z\"/>\n",
              "  </svg>\n",
              "    </button>\n",
              "    <script>\n",
              "      (() => {\n",
              "      const buttonEl =\n",
              "        document.querySelector('#id_777c6fe5-255c-4dd6-81f4-5f29f9ea8bc9 button.colab-df-generate');\n",
              "      buttonEl.style.display =\n",
              "        google.colab.kernel.accessAllowed ? 'block' : 'none';\n",
              "\n",
              "      buttonEl.onclick = () => {\n",
              "        google.colab.notebook.generateWithVariable('perf_df');\n",
              "      }\n",
              "      })();\n",
              "    </script>\n",
              "  </div>\n",
              "\n",
              "    </div>\n",
              "  </div>\n"
            ],
            "application/vnd.google.colaboratory.intrinsic+json": {
              "type": "dataframe",
              "variable_name": "perf_df",
              "summary": "{\n  \"name\": \"perf_df\",\n  \"rows\": 7,\n  \"fields\": [\n    {\n      \"column\": \"Cost\",\n      \"properties\": {\n        \"dtype\": \"number\",\n        \"std\": 7709,\n        \"min\": 29190,\n        \"max\": 51430,\n        \"num_unique_values\": 7,\n        \"samples\": [\n          29190,\n          32500,\n          43840\n        ],\n        \"semantic_type\": \"\",\n        \"description\": \"\"\n      }\n    },\n    {\n      \"column\": \"F1 Score\",\n      \"properties\": {\n        \"dtype\": \"number\",\n        \"std\": 0.17894695767774643,\n        \"min\": 0.42443729903536975,\n        \"max\": 0.9263657957244655,\n        \"num_unique_values\": 7,\n        \"samples\": [\n          0.9192825112107623,\n          0.8775055679287305,\n          0.8527918781725888\n        ],\n        \"semantic_type\": \"\",\n        \"description\": \"\"\n      }\n    }\n  ]\n}"
            }
          },
          "metadata": {}
        }
      ]
    },
    {
      "cell_type": "markdown",
      "source": [
        "**Final Model Selection**:\n",
        "Based on the explicit goal of \"minimizing total cost,\" the Regularized ANN (Model 6) is the recommended final model among those evaluated. This systematic comparison using the business-defined metric provides a clear, data-driven justification for model choice.\n",
        "Cost vs. F1 Scocre: While Regularized ANN has the lowest cost, its F1 Score (0.8755) is not the highest. XGBoost (Model 3) and Simple ANN (Model 0) have higher F1 Scores (0.926 and 0.905 respectively)"
      ],
      "metadata": {
        "id": "a3X_fPwJrhq9"
      }
    },
    {
      "cell_type": "code",
      "source": [
        "# Select the best performing model from our comparison\n",
        "# Based on previous comparison, Regularized ANN (Model 6) had the lowest cost.\n",
        "final_model = ann_model_6 # Assign the already trained Regularized ANN model\n",
        "\n",
        "# Make predictions on the final test data\n",
        "# X_test_final_scaled should be available from previous preprocessing steps\n",
        "y_pred_final = final_model.predict(X_test_final_scaled)\n",
        "\n",
        "# For ANNs, predict() returns probabilities.\n",
        "# I'll use a threshold of 0.5 for binary classification.\n",
        "y_pred_final_binary = (y_pred_final > 0.5).astype(\"int32\")\n",
        "\n",
        "\n",
        "# Calculate final metrics\n",
        "final_cost = calculate_total_cost(y_test_final, y_pred_final_binary)\n",
        "final_f1 = f1_score(y_test_final, y_pred_final_binary)\n",
        "final_cm = confusion_matrix(y_test_final, y_pred_final_binary)\n",
        "\n",
        "\n",
        "print(f\"--- Final Model Performance on Test Set (Regularized ANN) ---\")\n",
        "print(f\"Total Projected Cost: ${final_cost:,}\")\n",
        "print(f\"Final F1 Score: {final_f1:.4f}\")\n",
        "print(f\"\\nFinal Confusion Matrix:\\n{final_cm}\")\n",
        "\n",
        "# Visualize the final confusion matrix for clarity\n",
        "import matplotlib.pyplot as plt\n",
        "import seaborn as sns # Assuming seaborn is imported as sns\n",
        "\n",
        "plt.figure(figsize=(8, 6))\n",
        "sns.heatmap(final_cm, annot=True, fmt='d', cmap='Greens',\n",
        "            xticklabels=['No Failure', 'Failure'], yticklabels=['No Failure', 'Failure'])\n",
        "plt.title('Confusion Matrix for Final Model on Test Data', fontsize=16)\n",
        "plt.xlabel('Predicted Label', fontsize=12)\n",
        "plt.ylabel('True Label', fontsize=12)\n",
        "plt.show()\n"
      ],
      "metadata": {
        "colab": {
          "base_uri": "https://localhost:8080/",
          "height": 709
        },
        "id": "fg-6WfLSrhZn",
        "outputId": "f5e313b0-105d-4dec-d8ea-e691275b1b97"
      },
      "execution_count": 104,
      "outputs": [
        {
          "output_type": "stream",
          "name": "stdout",
          "text": [
            "\u001b[1m157/157\u001b[0m \u001b[32m━━━━━━━━━━━━━━━━━━━━\u001b[0m\u001b[37m\u001b[0m \u001b[1m0s\u001b[0m 1ms/step\n",
            "--- Final Model Performance on Test Set (Regularized ANN) ---\n",
            "Total Projected Cost: $42,870\n",
            "Final F1 Score: 0.8865\n",
            "\n",
            "Final Confusion Matrix:\n",
            "[[4691   27]\n",
            " [  36  246]]\n"
          ]
        },
        {
          "output_type": "display_data",
          "data": {
            "text/plain": [
              "<Figure size 800x600 with 2 Axes>"
            ],
            "image/png": "[encoded data removed]"
          },
          "metadata": {}
        }
      ]
    },
    {
      "cell_type": "markdown",
      "source": [
        "**Conclusion and Key Insights:**\n",
        "\n",
        "The Regularized ANN continues to demonstrate strong and consistent performance in minimizing the business-defined maintenance cost.\n",
        "\n",
        "\n",
        "\n",
        "*   The Total Projected Cost of $42,870 on the unseen test data indicates a robust performance for the critical business objective.\n",
        "*   The number of missed failures (False Negatives) is low at 36, indicating the model effectively prevents high-cost catastrophic events.\n",
        "*   The F1 Score of 0.8865 reflects a balance between precision and recall for the crucial \"Failure\" class.\n",
        "\n",
        "\n",
        "\n",
        "\n",
        "\n"
      ],
      "metadata": {
        "id": "uCEWA1F8BO6S"
      }
    },
    {
      "cell_type": "markdown",
      "source": [
        "**Actionable Insights & Recommendations for Generator Maintenance**\n",
        "\n",
        "This project successfully developed and evaluated machine learning models to predict generator failures, with the primary objective of minimizing associated maintenance costs. The Regularized Artificial Neural Network (Model 6) has emerged as the top-performing model, demonstrating its ability to optimize for business-specific financial outcomes.\n",
        "\n",
        "**Recommendations for Next Steps:**\n",
        "\n",
        "\n",
        "1.   Deploy the Regularized ANN (Model 6):\n",
        "2.   Monitor Model Performance Continuously:\n",
        "3.   Explore Threshold Tuning for Cost Optimization:\n",
        "4.   Consider Ensemble Methods\n",
        "5.   Further Hyperparameter Tuning for ANN\n",
        "\n",
        "\n",
        "By implementing these recommendations, the organization can leverage the developed machine learning solution to significantly optimize its generator maintenance operations and reduce costs.\n",
        "\n",
        "\n",
        "\n",
        "\n"
      ],
      "metadata": {
        "id": "ihhmTf6cECKW"
      }
    }
  ]
}